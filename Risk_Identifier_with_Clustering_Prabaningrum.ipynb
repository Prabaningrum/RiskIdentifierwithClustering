{
 "cells": [
  {
   "cell_type": "markdown",
   "metadata": {},
   "source": [
    "# Risk Identifier with Clustering\n",
    "\n",
    "**Author: Prabaningrum Hendraswari Buditjahjono**\n",
    "\n",
    "**About:**\n",
    "\n",
    "An aspiring data analyst who recently graduated as a bachelor of psychology. I desire to switch career to the data science field since graduating from Full Time Data Science Program. Discovered my passion towards data in university and intend to continuously explore, delve, and improve my skills. Focusing on Data Analysis, Data Visualizaion, Machine Learning, and Deep Learning."
   ]
  },
  {
   "cell_type": "markdown",
   "metadata": {},
   "source": [
    "### Import Libraries"
   ]
  },
  {
   "cell_type": "code",
   "execution_count": 1,
   "metadata": {},
   "outputs": [],
   "source": [
    "import pandas as pd\n",
    "import numpy as np\n",
    "import matplotlib as mpl\n",
    "import matplotlib.pyplot as plt\n",
    "import seaborn as sns\n",
    "\n",
    "#For EDA\n",
    "import phik\n",
    "import warnings\n",
    "warnings.filterwarnings('ignore')\n",
    "\n",
    "# For Feature Encoding\n",
    "from sklearn.preprocessing import StandardScaler,MinMaxScaler,OrdinalEncoder,LabelEncoder,OneHotEncoder\n",
    "\n",
    "# For Feature Scaling\n",
    "from feature_engine.outliers import Winsorizer\n",
    "from sklearn.preprocessing import StandardScaler,MinMaxScaler\n",
    "\n",
    "# For Principal Component Analysis\n",
    "from sklearn.decomposition import PCA\n",
    "\n",
    "# For Models\n",
    "from sklearn.datasets import make_blobs\n",
    "from sklearn.cluster import KMeans, SpectralClustering, AgglomerativeClustering\n",
    "from sklearn.mixture import GaussianMixture\n",
    "from sklearn.cluster import SpectralClustering\n",
    "\n",
    "# To Evaluate Models\n",
    "from matplotlib.ticker import FixedLocator, FixedFormatter\n",
    "from sklearn.metrics import silhouette_score, silhouette_samples\n"
   ]
  },
  {
   "cell_type": "markdown",
   "metadata": {},
   "source": [
    "# Data Sinarmas"
   ]
  },
  {
   "cell_type": "markdown",
   "metadata": {},
   "source": [
    "**Data Description**\n",
    "\n",
    "Age (numeric)\t\n",
    "\n",
    "Sex (text: male, female)\t\n",
    "\n",
    "Job (numeric: 0 - unskilled and non-resident, 1 - unskilled and resident, 2 – skilled, 3 - highly skilled)\n",
    "\n",
    "Housing (text: own, rent, or free)\t\n",
    "\n",
    "Saving accounts (text – little, moderate, quite rich, rich)\n",
    "\n",
    "Checking account (numeric in IDR)\t\t\n",
    "\n",
    "Credit amount (numeric\t in IDR)\t\t\n",
    "\n",
    "Duration (numeric in month)\t\t\n",
    "\n",
    "Purpose (text: car, furniture/equipment, radio/TV, domestic appliances)\n"
   ]
  },
  {
   "cell_type": "markdown",
   "metadata": {},
   "source": [
    "We have a data consisting of 9 variables, the objective of this analysis is to predict the risk based on the paramemter provided.\n",
    "\n",
    "In this case, I am going to separate them into high risk and low risk."
   ]
  },
  {
   "cell_type": "markdown",
   "metadata": {},
   "source": [
    "### Data Loading"
   ]
  },
  {
   "cell_type": "code",
   "execution_count": 8,
   "metadata": {},
   "outputs": [
    {
     "data": {
      "text/html": [
       "<div>\n",
       "<style scoped>\n",
       "    .dataframe tbody tr th:only-of-type {\n",
       "        vertical-align: middle;\n",
       "    }\n",
       "\n",
       "    .dataframe tbody tr th {\n",
       "        vertical-align: top;\n",
       "    }\n",
       "\n",
       "    .dataframe thead th {\n",
       "        text-align: right;\n",
       "    }\n",
       "</style>\n",
       "<table border=\"1\" class=\"dataframe\">\n",
       "  <thead>\n",
       "    <tr style=\"text-align: right;\">\n",
       "      <th></th>\n",
       "      <th>No</th>\n",
       "      <th>Age</th>\n",
       "      <th>Sex</th>\n",
       "      <th>Job</th>\n",
       "      <th>Housing</th>\n",
       "      <th>Saving accounts</th>\n",
       "      <th>Checking account</th>\n",
       "      <th>Credit amount</th>\n",
       "      <th>Duration</th>\n",
       "      <th>Purpose</th>\n",
       "    </tr>\n",
       "  </thead>\n",
       "  <tbody>\n",
       "    <tr>\n",
       "      <th>0</th>\n",
       "      <td>0</td>\n",
       "      <td>67</td>\n",
       "      <td>male</td>\n",
       "      <td>2</td>\n",
       "      <td>own</td>\n",
       "      <td>NaN</td>\n",
       "      <td>little</td>\n",
       "      <td>14494431</td>\n",
       "      <td>6</td>\n",
       "      <td>radio/TV</td>\n",
       "    </tr>\n",
       "    <tr>\n",
       "      <th>1</th>\n",
       "      <td>1</td>\n",
       "      <td>22</td>\n",
       "      <td>female</td>\n",
       "      <td>2</td>\n",
       "      <td>own</td>\n",
       "      <td>little</td>\n",
       "      <td>moderate</td>\n",
       "      <td>73786449</td>\n",
       "      <td>48</td>\n",
       "      <td>radio/TV</td>\n",
       "    </tr>\n",
       "    <tr>\n",
       "      <th>2</th>\n",
       "      <td>2</td>\n",
       "      <td>49</td>\n",
       "      <td>male</td>\n",
       "      <td>1</td>\n",
       "      <td>own</td>\n",
       "      <td>little</td>\n",
       "      <td>NaN</td>\n",
       "      <td>25988304</td>\n",
       "      <td>12</td>\n",
       "      <td>education</td>\n",
       "    </tr>\n",
       "    <tr>\n",
       "      <th>3</th>\n",
       "      <td>3</td>\n",
       "      <td>45</td>\n",
       "      <td>male</td>\n",
       "      <td>2</td>\n",
       "      <td>free</td>\n",
       "      <td>little</td>\n",
       "      <td>little</td>\n",
       "      <td>97728918</td>\n",
       "      <td>42</td>\n",
       "      <td>furniture/equipment</td>\n",
       "    </tr>\n",
       "    <tr>\n",
       "      <th>4</th>\n",
       "      <td>4</td>\n",
       "      <td>53</td>\n",
       "      <td>male</td>\n",
       "      <td>2</td>\n",
       "      <td>free</td>\n",
       "      <td>little</td>\n",
       "      <td>little</td>\n",
       "      <td>60383130</td>\n",
       "      <td>24</td>\n",
       "      <td>car</td>\n",
       "    </tr>\n",
       "  </tbody>\n",
       "</table>\n",
       "</div>"
      ],
      "text/plain": [
       "   No  Age     Sex  Job Housing Saving accounts Checking account  \\\n",
       "0   0   67    male    2     own             NaN           little   \n",
       "1   1   22  female    2     own          little         moderate   \n",
       "2   2   49    male    1     own          little              NaN   \n",
       "3   3   45    male    2    free          little           little   \n",
       "4   4   53    male    2    free          little           little   \n",
       "\n",
       "   Credit amount  Duration              Purpose  \n",
       "0       14494431         6             radio/TV  \n",
       "1       73786449        48             radio/TV  \n",
       "2       25988304        12            education  \n",
       "3       97728918        42  furniture/equipment  \n",
       "4       60383130        24                  car  "
      ]
     },
     "execution_count": 8,
     "metadata": {},
     "output_type": "execute_result"
    }
   ],
   "source": [
    "df2 = pd.read_excel('IndonesiaCreditData.xlsx')\n",
    "df2.head()"
   ]
  },
  {
   "cell_type": "markdown",
   "metadata": {},
   "source": [
    "### Exploratory Data Analysis"
   ]
  },
  {
   "cell_type": "code",
   "execution_count": 9,
   "metadata": {},
   "outputs": [
    {
     "name": "stdout",
     "output_type": "stream",
     "text": [
      "<class 'pandas.core.frame.DataFrame'>\n",
      "RangeIndex: 1000 entries, 0 to 999\n",
      "Data columns (total 10 columns):\n",
      " #   Column            Non-Null Count  Dtype \n",
      "---  ------            --------------  ----- \n",
      " 0   No                1000 non-null   int64 \n",
      " 1   Age               1000 non-null   int64 \n",
      " 2   Sex               1000 non-null   object\n",
      " 3   Job               1000 non-null   int64 \n",
      " 4   Housing           1000 non-null   object\n",
      " 5   Saving accounts   817 non-null    object\n",
      " 6   Checking account  606 non-null    object\n",
      " 7   Credit amount     1000 non-null   int64 \n",
      " 8   Duration          1000 non-null   int64 \n",
      " 9   Purpose           1000 non-null   object\n",
      "dtypes: int64(5), object(5)\n",
      "memory usage: 78.2+ KB\n"
     ]
    }
   ],
   "source": [
    "#Checking the dataset\n",
    "df2.info()"
   ]
  },
  {
   "cell_type": "code",
   "execution_count": 10,
   "metadata": {},
   "outputs": [
    {
     "data": {
      "text/plain": [
       "No                    0\n",
       "Age                   0\n",
       "Sex                   0\n",
       "Job                   0\n",
       "Housing               0\n",
       "Saving accounts     183\n",
       "Checking account    394\n",
       "Credit amount         0\n",
       "Duration              0\n",
       "Purpose               0\n",
       "dtype: int64"
      ]
     },
     "execution_count": 10,
     "metadata": {},
     "output_type": "execute_result"
    }
   ],
   "source": [
    "#Checking missing values\n",
    "df2.isnull().sum()"
   ]
  },
  {
   "cell_type": "markdown",
   "metadata": {},
   "source": [
    "There seems to be missing value sin the Saving accounts and Checking account column. However, we should further check what kind of missing value it is to identify what kind of solution would be best to handle them."
   ]
  },
  {
   "cell_type": "code",
   "execution_count": 11,
   "metadata": {},
   "outputs": [
    {
     "data": {
      "text/plain": [
       "0      1\n",
       "671    1\n",
       "658    1\n",
       "659    1\n",
       "660    1\n",
       "      ..\n",
       "338    1\n",
       "339    1\n",
       "340    1\n",
       "341    1\n",
       "999    1\n",
       "Name: No, Length: 1000, dtype: int64"
      ]
     },
     "execution_count": 11,
     "metadata": {},
     "output_type": "execute_result"
    }
   ],
   "source": [
    "df2['No'].value_counts()"
   ]
  },
  {
   "cell_type": "markdown",
   "metadata": {},
   "source": [
    "The data in the 'No' column is basically the index, and since python already keeps track of it without manual numbering, we will be removing it from the dataset for the process of clustering."
   ]
  },
  {
   "cell_type": "code",
   "execution_count": 12,
   "metadata": {},
   "outputs": [
    {
     "data": {
      "text/html": [
       "<div>\n",
       "<style scoped>\n",
       "    .dataframe tbody tr th:only-of-type {\n",
       "        vertical-align: middle;\n",
       "    }\n",
       "\n",
       "    .dataframe tbody tr th {\n",
       "        vertical-align: top;\n",
       "    }\n",
       "\n",
       "    .dataframe thead th {\n",
       "        text-align: right;\n",
       "    }\n",
       "</style>\n",
       "<table border=\"1\" class=\"dataframe\">\n",
       "  <thead>\n",
       "    <tr style=\"text-align: right;\">\n",
       "      <th></th>\n",
       "      <th>Age</th>\n",
       "      <th>Sex</th>\n",
       "      <th>Job</th>\n",
       "      <th>Housing</th>\n",
       "      <th>Saving accounts</th>\n",
       "      <th>Checking account</th>\n",
       "      <th>Credit amount</th>\n",
       "      <th>Duration</th>\n",
       "      <th>Purpose</th>\n",
       "    </tr>\n",
       "  </thead>\n",
       "  <tbody>\n",
       "    <tr>\n",
       "      <th>0</th>\n",
       "      <td>67</td>\n",
       "      <td>male</td>\n",
       "      <td>2</td>\n",
       "      <td>own</td>\n",
       "      <td>NaN</td>\n",
       "      <td>little</td>\n",
       "      <td>14494431</td>\n",
       "      <td>6</td>\n",
       "      <td>radio/TV</td>\n",
       "    </tr>\n",
       "    <tr>\n",
       "      <th>1</th>\n",
       "      <td>22</td>\n",
       "      <td>female</td>\n",
       "      <td>2</td>\n",
       "      <td>own</td>\n",
       "      <td>little</td>\n",
       "      <td>moderate</td>\n",
       "      <td>73786449</td>\n",
       "      <td>48</td>\n",
       "      <td>radio/TV</td>\n",
       "    </tr>\n",
       "    <tr>\n",
       "      <th>2</th>\n",
       "      <td>49</td>\n",
       "      <td>male</td>\n",
       "      <td>1</td>\n",
       "      <td>own</td>\n",
       "      <td>little</td>\n",
       "      <td>NaN</td>\n",
       "      <td>25988304</td>\n",
       "      <td>12</td>\n",
       "      <td>education</td>\n",
       "    </tr>\n",
       "    <tr>\n",
       "      <th>3</th>\n",
       "      <td>45</td>\n",
       "      <td>male</td>\n",
       "      <td>2</td>\n",
       "      <td>free</td>\n",
       "      <td>little</td>\n",
       "      <td>little</td>\n",
       "      <td>97728918</td>\n",
       "      <td>42</td>\n",
       "      <td>furniture/equipment</td>\n",
       "    </tr>\n",
       "    <tr>\n",
       "      <th>4</th>\n",
       "      <td>53</td>\n",
       "      <td>male</td>\n",
       "      <td>2</td>\n",
       "      <td>free</td>\n",
       "      <td>little</td>\n",
       "      <td>little</td>\n",
       "      <td>60383130</td>\n",
       "      <td>24</td>\n",
       "      <td>car</td>\n",
       "    </tr>\n",
       "  </tbody>\n",
       "</table>\n",
       "</div>"
      ],
      "text/plain": [
       "   Age     Sex  Job Housing Saving accounts Checking account  Credit amount  \\\n",
       "0   67    male    2     own             NaN           little       14494431   \n",
       "1   22  female    2     own          little         moderate       73786449   \n",
       "2   49    male    1     own          little              NaN       25988304   \n",
       "3   45    male    2    free          little           little       97728918   \n",
       "4   53    male    2    free          little           little       60383130   \n",
       "\n",
       "   Duration              Purpose  \n",
       "0         6             radio/TV  \n",
       "1        48             radio/TV  \n",
       "2        12            education  \n",
       "3        42  furniture/equipment  \n",
       "4        24                  car  "
      ]
     },
     "execution_count": 12,
     "metadata": {},
     "output_type": "execute_result"
    }
   ],
   "source": [
    "df2_cluster = df2.drop(['No'], axis=1)\n",
    "df2_cluster.head()"
   ]
  },
  {
   "cell_type": "markdown",
   "metadata": {},
   "source": [
    "Categorical data: Sex, Job, Housing, Saving accounts, Checking account, Purpose."
   ]
  },
  {
   "cell_type": "code",
   "execution_count": 13,
   "metadata": {},
   "outputs": [
    {
     "name": "stdout",
     "output_type": "stream",
     "text": [
      "little        603\n",
      "moderate      103\n",
      "quite rich     63\n",
      "rich           48\n",
      "Name: Saving accounts, dtype: int64\n",
      "little      274\n",
      "moderate    269\n",
      "rich         63\n",
      "Name: Checking account, dtype: int64\n"
     ]
    }
   ],
   "source": [
    "print (df2_cluster['Saving accounts'].value_counts())\n",
    "print (df2_cluster['Checking account'].value_counts())"
   ]
  },
  {
   "cell_type": "markdown",
   "metadata": {},
   "source": [
    "from further exploration, it seems that the missing values are answers left as blank.\n",
    "\n",
    "Reference: https://bettermoneyhabits.bankofamerica.com/en/personal-banking/the-difference-between-checking-and-savings-account#:~:text=A%20checking%20account%20is%20a,the%20goal%20of%20accumulating%20more.\n",
    "\n",
    "Since it seems like Savings accounts and Checking accounts are just different types of accounts and in this case indicates how much money the customer has in each of the accounts, based on that information it is safe to assume that the missing values just means that they don't have the account. Thus, I'm going to mark it as 'none'"
   ]
  },
  {
   "cell_type": "code",
   "execution_count": 14,
   "metadata": {},
   "outputs": [],
   "source": [
    "df2_cluster.fillna('none', inplace= True)"
   ]
  },
  {
   "cell_type": "code",
   "execution_count": 15,
   "metadata": {},
   "outputs": [
    {
     "data": {
      "text/plain": [
       "Age                 0\n",
       "Sex                 0\n",
       "Job                 0\n",
       "Housing             0\n",
       "Saving accounts     0\n",
       "Checking account    0\n",
       "Credit amount       0\n",
       "Duration            0\n",
       "Purpose             0\n",
       "dtype: int64"
      ]
     },
     "execution_count": 15,
     "metadata": {},
     "output_type": "execute_result"
    }
   ],
   "source": [
    "#Checking the dataframe after filling the missing values\n",
    "df2_cluster.isnull().sum()"
   ]
  },
  {
   "cell_type": "code",
   "execution_count": 16,
   "metadata": {},
   "outputs": [
    {
     "name": "stdout",
     "output_type": "stream",
     "text": [
      "little        603\n",
      "none          183\n",
      "moderate      103\n",
      "quite rich     63\n",
      "rich           48\n",
      "Name: Saving accounts, dtype: int64\n",
      "none        394\n",
      "little      274\n",
      "moderate    269\n",
      "rich         63\n",
      "Name: Checking account, dtype: int64\n"
     ]
    }
   ],
   "source": [
    "print (df2_cluster['Saving accounts'].value_counts())\n",
    "print (df2_cluster['Checking account'].value_counts())"
   ]
  },
  {
   "cell_type": "markdown",
   "metadata": {},
   "source": [
    "There is no missing values anymore after handling."
   ]
  },
  {
   "cell_type": "code",
   "execution_count": 17,
   "metadata": {},
   "outputs": [
    {
     "data": {
      "text/plain": [
       "0"
      ]
     },
     "execution_count": 17,
     "metadata": {},
     "output_type": "execute_result"
    }
   ],
   "source": [
    "# checking for duplicates\n",
    "df2_cluster.duplicated().sum()"
   ]
  },
  {
   "cell_type": "markdown",
   "metadata": {},
   "source": [
    "Since there are no duplicates, I'm not going to do any handling towards that."
   ]
  },
  {
   "cell_type": "code",
   "execution_count": 18,
   "metadata": {},
   "outputs": [
    {
     "data": {
      "text/html": [
       "<div>\n",
       "<style scoped>\n",
       "    .dataframe tbody tr th:only-of-type {\n",
       "        vertical-align: middle;\n",
       "    }\n",
       "\n",
       "    .dataframe tbody tr th {\n",
       "        vertical-align: top;\n",
       "    }\n",
       "\n",
       "    .dataframe thead th {\n",
       "        text-align: right;\n",
       "    }\n",
       "</style>\n",
       "<table border=\"1\" class=\"dataframe\">\n",
       "  <thead>\n",
       "    <tr style=\"text-align: right;\">\n",
       "      <th></th>\n",
       "      <th>count</th>\n",
       "      <th>mean</th>\n",
       "      <th>std</th>\n",
       "      <th>min</th>\n",
       "      <th>25%</th>\n",
       "      <th>50%</th>\n",
       "      <th>75%</th>\n",
       "      <th>max</th>\n",
       "    </tr>\n",
       "  </thead>\n",
       "  <tbody>\n",
       "    <tr>\n",
       "      <th>Age</th>\n",
       "      <td>1000.0</td>\n",
       "      <td>36.0</td>\n",
       "      <td>11.0</td>\n",
       "      <td>19.0</td>\n",
       "      <td>27.0</td>\n",
       "      <td>33.0</td>\n",
       "      <td>42.0</td>\n",
       "      <td>75.0</td>\n",
       "    </tr>\n",
       "    <tr>\n",
       "      <th>Job</th>\n",
       "      <td>1000.0</td>\n",
       "      <td>2.0</td>\n",
       "      <td>1.0</td>\n",
       "      <td>0.0</td>\n",
       "      <td>2.0</td>\n",
       "      <td>2.0</td>\n",
       "      <td>2.0</td>\n",
       "      <td>3.0</td>\n",
       "    </tr>\n",
       "    <tr>\n",
       "      <th>Credit amount</th>\n",
       "      <td>1000.0</td>\n",
       "      <td>40560328.0</td>\n",
       "      <td>34999115.0</td>\n",
       "      <td>3099750.0</td>\n",
       "      <td>16930834.0</td>\n",
       "      <td>28759480.0</td>\n",
       "      <td>49251928.0</td>\n",
       "      <td>228439176.0</td>\n",
       "    </tr>\n",
       "    <tr>\n",
       "      <th>Duration</th>\n",
       "      <td>1000.0</td>\n",
       "      <td>21.0</td>\n",
       "      <td>12.0</td>\n",
       "      <td>4.0</td>\n",
       "      <td>12.0</td>\n",
       "      <td>18.0</td>\n",
       "      <td>24.0</td>\n",
       "      <td>72.0</td>\n",
       "    </tr>\n",
       "  </tbody>\n",
       "</table>\n",
       "</div>"
      ],
      "text/plain": [
       "                count        mean         std        min         25%  \\\n",
       "Age            1000.0        36.0        11.0       19.0        27.0   \n",
       "Job            1000.0         2.0         1.0        0.0         2.0   \n",
       "Credit amount  1000.0  40560328.0  34999115.0  3099750.0  16930834.0   \n",
       "Duration       1000.0        21.0        12.0        4.0        12.0   \n",
       "\n",
       "                      50%         75%          max  \n",
       "Age                  33.0        42.0         75.0  \n",
       "Job                   2.0         2.0          3.0  \n",
       "Credit amount  28759480.0  49251928.0  228439176.0  \n",
       "Duration             18.0        24.0         72.0  "
      ]
     },
     "execution_count": 18,
     "metadata": {},
     "output_type": "execute_result"
    }
   ],
   "source": [
    "df2_cluster.describe().T.round()"
   ]
  },
  {
   "cell_type": "markdown",
   "metadata": {},
   "source": [
    "From the analysis towards the central tendencies, there seems to be no anomaly to the numerical data. Though from the categorical data that has been encoded (Job), it seems that most people in this dataset are pretty skilled at their jobs."
   ]
  },
  {
   "cell_type": "code",
   "execution_count": 19,
   "metadata": {},
   "outputs": [
    {
     "name": "stdout",
     "output_type": "stream",
     "text": [
      "interval columns not set, guessing: ['Age', 'Job', 'Credit amount', 'Duration']\n"
     ]
    },
    {
     "data": {
      "text/plain": [
       "<AxesSubplot:>"
      ]
     },
     "execution_count": 19,
     "metadata": {},
     "output_type": "execute_result"
    },
    {
     "data": {
      "image/png": "[encoded data removed]",
      "text/plain": [
       "<Figure size 1800x1080 with 1 Axes>"
      ]
     },
     "metadata": {
      "needs_background": "light"
     },
     "output_type": "display_data"
    }
   ],
   "source": [
    "# Feature Correlation\n",
    "# Setting figure size\n",
    "fig = plt.figure(figsize = (25, 15))\n",
    "\n",
    "# Heatmap plotting\n",
    "sns.heatmap(df2_cluster.phik_matrix(),\n",
    "            vmin = 0,\n",
    "            vmax = 1,\n",
    "            annot = True,\n",
    "            cbar = False)"
   ]
  },
  {
   "cell_type": "markdown",
   "metadata": {},
   "source": [
    "### Encoding Data"
   ]
  },
  {
   "cell_type": "markdown",
   "metadata": {},
   "source": [
    "Categorical data: Sex, Job, Housing, Saving accounts, Checking account, Purpose.\n",
    "\n",
    "Job has already been encoded"
   ]
  },
  {
   "cell_type": "code",
   "execution_count": 20,
   "metadata": {},
   "outputs": [],
   "source": [
    "#defining a separate dataset to make it easier to concat later\n",
    "df_job = df2_cluster[['Job']]"
   ]
  },
  {
   "cell_type": "code",
   "execution_count": 21,
   "metadata": {},
   "outputs": [],
   "source": [
    "df_bef_enc = df2_cluster[['Sex', 'Housing', 'Saving accounts', 'Checking account', 'Purpose']]"
   ]
  },
  {
   "cell_type": "code",
   "execution_count": 22,
   "metadata": {},
   "outputs": [
    {
     "data": {
      "text/plain": [
       "little        603\n",
       "none          183\n",
       "moderate      103\n",
       "quite rich     63\n",
       "rich           48\n",
       "Name: Saving accounts, dtype: int64"
      ]
     },
     "execution_count": 22,
     "metadata": {},
     "output_type": "execute_result"
    }
   ],
   "source": [
    "df2_cluster['Saving accounts'].value_counts()"
   ]
  },
  {
   "cell_type": "markdown",
   "metadata": {},
   "source": [
    "**One Hot Encoding tryout**"
   ]
  },
  {
   "cell_type": "code",
   "execution_count": 23,
   "metadata": {},
   "outputs": [
    {
     "data": {
      "text/html": [
       "<div>\n",
       "<style scoped>\n",
       "    .dataframe tbody tr th:only-of-type {\n",
       "        vertical-align: middle;\n",
       "    }\n",
       "\n",
       "    .dataframe tbody tr th {\n",
       "        vertical-align: top;\n",
       "    }\n",
       "\n",
       "    .dataframe thead th {\n",
       "        text-align: right;\n",
       "    }\n",
       "</style>\n",
       "<table border=\"1\" class=\"dataframe\">\n",
       "  <thead>\n",
       "    <tr style=\"text-align: right;\">\n",
       "      <th></th>\n",
       "      <th>0</th>\n",
       "      <th>1</th>\n",
       "      <th>2</th>\n",
       "      <th>3</th>\n",
       "      <th>4</th>\n",
       "      <th>5</th>\n",
       "      <th>6</th>\n",
       "      <th>7</th>\n",
       "      <th>8</th>\n",
       "      <th>9</th>\n",
       "      <th>...</th>\n",
       "      <th>12</th>\n",
       "      <th>13</th>\n",
       "      <th>14</th>\n",
       "      <th>15</th>\n",
       "      <th>16</th>\n",
       "      <th>17</th>\n",
       "      <th>18</th>\n",
       "      <th>19</th>\n",
       "      <th>20</th>\n",
       "      <th>21</th>\n",
       "    </tr>\n",
       "  </thead>\n",
       "  <tbody>\n",
       "    <tr>\n",
       "      <th>0</th>\n",
       "      <td>0.0</td>\n",
       "      <td>1.0</td>\n",
       "      <td>0.0</td>\n",
       "      <td>1.0</td>\n",
       "      <td>0.0</td>\n",
       "      <td>0.0</td>\n",
       "      <td>0.0</td>\n",
       "      <td>1.0</td>\n",
       "      <td>0.0</td>\n",
       "      <td>0.0</td>\n",
       "      <td>...</td>\n",
       "      <td>0.0</td>\n",
       "      <td>0.0</td>\n",
       "      <td>0.0</td>\n",
       "      <td>0.0</td>\n",
       "      <td>0.0</td>\n",
       "      <td>0.0</td>\n",
       "      <td>0.0</td>\n",
       "      <td>1.0</td>\n",
       "      <td>0.0</td>\n",
       "      <td>0.0</td>\n",
       "    </tr>\n",
       "    <tr>\n",
       "      <th>1</th>\n",
       "      <td>1.0</td>\n",
       "      <td>0.0</td>\n",
       "      <td>0.0</td>\n",
       "      <td>1.0</td>\n",
       "      <td>0.0</td>\n",
       "      <td>1.0</td>\n",
       "      <td>0.0</td>\n",
       "      <td>0.0</td>\n",
       "      <td>0.0</td>\n",
       "      <td>0.0</td>\n",
       "      <td>...</td>\n",
       "      <td>0.0</td>\n",
       "      <td>0.0</td>\n",
       "      <td>0.0</td>\n",
       "      <td>0.0</td>\n",
       "      <td>0.0</td>\n",
       "      <td>0.0</td>\n",
       "      <td>0.0</td>\n",
       "      <td>1.0</td>\n",
       "      <td>0.0</td>\n",
       "      <td>0.0</td>\n",
       "    </tr>\n",
       "    <tr>\n",
       "      <th>2</th>\n",
       "      <td>0.0</td>\n",
       "      <td>1.0</td>\n",
       "      <td>0.0</td>\n",
       "      <td>1.0</td>\n",
       "      <td>0.0</td>\n",
       "      <td>1.0</td>\n",
       "      <td>0.0</td>\n",
       "      <td>0.0</td>\n",
       "      <td>0.0</td>\n",
       "      <td>0.0</td>\n",
       "      <td>...</td>\n",
       "      <td>1.0</td>\n",
       "      <td>0.0</td>\n",
       "      <td>0.0</td>\n",
       "      <td>0.0</td>\n",
       "      <td>0.0</td>\n",
       "      <td>1.0</td>\n",
       "      <td>0.0</td>\n",
       "      <td>0.0</td>\n",
       "      <td>0.0</td>\n",
       "      <td>0.0</td>\n",
       "    </tr>\n",
       "    <tr>\n",
       "      <th>3</th>\n",
       "      <td>0.0</td>\n",
       "      <td>1.0</td>\n",
       "      <td>1.0</td>\n",
       "      <td>0.0</td>\n",
       "      <td>0.0</td>\n",
       "      <td>1.0</td>\n",
       "      <td>0.0</td>\n",
       "      <td>0.0</td>\n",
       "      <td>0.0</td>\n",
       "      <td>0.0</td>\n",
       "      <td>...</td>\n",
       "      <td>0.0</td>\n",
       "      <td>0.0</td>\n",
       "      <td>0.0</td>\n",
       "      <td>0.0</td>\n",
       "      <td>0.0</td>\n",
       "      <td>0.0</td>\n",
       "      <td>1.0</td>\n",
       "      <td>0.0</td>\n",
       "      <td>0.0</td>\n",
       "      <td>0.0</td>\n",
       "    </tr>\n",
       "    <tr>\n",
       "      <th>4</th>\n",
       "      <td>0.0</td>\n",
       "      <td>1.0</td>\n",
       "      <td>1.0</td>\n",
       "      <td>0.0</td>\n",
       "      <td>0.0</td>\n",
       "      <td>1.0</td>\n",
       "      <td>0.0</td>\n",
       "      <td>0.0</td>\n",
       "      <td>0.0</td>\n",
       "      <td>0.0</td>\n",
       "      <td>...</td>\n",
       "      <td>0.0</td>\n",
       "      <td>0.0</td>\n",
       "      <td>0.0</td>\n",
       "      <td>1.0</td>\n",
       "      <td>0.0</td>\n",
       "      <td>0.0</td>\n",
       "      <td>0.0</td>\n",
       "      <td>0.0</td>\n",
       "      <td>0.0</td>\n",
       "      <td>0.0</td>\n",
       "    </tr>\n",
       "    <tr>\n",
       "      <th>...</th>\n",
       "      <td>...</td>\n",
       "      <td>...</td>\n",
       "      <td>...</td>\n",
       "      <td>...</td>\n",
       "      <td>...</td>\n",
       "      <td>...</td>\n",
       "      <td>...</td>\n",
       "      <td>...</td>\n",
       "      <td>...</td>\n",
       "      <td>...</td>\n",
       "      <td>...</td>\n",
       "      <td>...</td>\n",
       "      <td>...</td>\n",
       "      <td>...</td>\n",
       "      <td>...</td>\n",
       "      <td>...</td>\n",
       "      <td>...</td>\n",
       "      <td>...</td>\n",
       "      <td>...</td>\n",
       "      <td>...</td>\n",
       "      <td>...</td>\n",
       "    </tr>\n",
       "    <tr>\n",
       "      <th>995</th>\n",
       "      <td>1.0</td>\n",
       "      <td>0.0</td>\n",
       "      <td>0.0</td>\n",
       "      <td>1.0</td>\n",
       "      <td>0.0</td>\n",
       "      <td>1.0</td>\n",
       "      <td>0.0</td>\n",
       "      <td>0.0</td>\n",
       "      <td>0.0</td>\n",
       "      <td>0.0</td>\n",
       "      <td>...</td>\n",
       "      <td>1.0</td>\n",
       "      <td>0.0</td>\n",
       "      <td>0.0</td>\n",
       "      <td>0.0</td>\n",
       "      <td>0.0</td>\n",
       "      <td>0.0</td>\n",
       "      <td>1.0</td>\n",
       "      <td>0.0</td>\n",
       "      <td>0.0</td>\n",
       "      <td>0.0</td>\n",
       "    </tr>\n",
       "    <tr>\n",
       "      <th>996</th>\n",
       "      <td>0.0</td>\n",
       "      <td>1.0</td>\n",
       "      <td>0.0</td>\n",
       "      <td>1.0</td>\n",
       "      <td>0.0</td>\n",
       "      <td>1.0</td>\n",
       "      <td>0.0</td>\n",
       "      <td>0.0</td>\n",
       "      <td>0.0</td>\n",
       "      <td>0.0</td>\n",
       "      <td>...</td>\n",
       "      <td>0.0</td>\n",
       "      <td>0.0</td>\n",
       "      <td>0.0</td>\n",
       "      <td>1.0</td>\n",
       "      <td>0.0</td>\n",
       "      <td>0.0</td>\n",
       "      <td>0.0</td>\n",
       "      <td>0.0</td>\n",
       "      <td>0.0</td>\n",
       "      <td>0.0</td>\n",
       "    </tr>\n",
       "    <tr>\n",
       "      <th>997</th>\n",
       "      <td>0.0</td>\n",
       "      <td>1.0</td>\n",
       "      <td>0.0</td>\n",
       "      <td>1.0</td>\n",
       "      <td>0.0</td>\n",
       "      <td>1.0</td>\n",
       "      <td>0.0</td>\n",
       "      <td>0.0</td>\n",
       "      <td>0.0</td>\n",
       "      <td>0.0</td>\n",
       "      <td>...</td>\n",
       "      <td>1.0</td>\n",
       "      <td>0.0</td>\n",
       "      <td>0.0</td>\n",
       "      <td>0.0</td>\n",
       "      <td>0.0</td>\n",
       "      <td>0.0</td>\n",
       "      <td>0.0</td>\n",
       "      <td>1.0</td>\n",
       "      <td>0.0</td>\n",
       "      <td>0.0</td>\n",
       "    </tr>\n",
       "    <tr>\n",
       "      <th>998</th>\n",
       "      <td>0.0</td>\n",
       "      <td>1.0</td>\n",
       "      <td>1.0</td>\n",
       "      <td>0.0</td>\n",
       "      <td>0.0</td>\n",
       "      <td>1.0</td>\n",
       "      <td>0.0</td>\n",
       "      <td>0.0</td>\n",
       "      <td>0.0</td>\n",
       "      <td>0.0</td>\n",
       "      <td>...</td>\n",
       "      <td>0.0</td>\n",
       "      <td>0.0</td>\n",
       "      <td>0.0</td>\n",
       "      <td>0.0</td>\n",
       "      <td>0.0</td>\n",
       "      <td>0.0</td>\n",
       "      <td>0.0</td>\n",
       "      <td>1.0</td>\n",
       "      <td>0.0</td>\n",
       "      <td>0.0</td>\n",
       "    </tr>\n",
       "    <tr>\n",
       "      <th>999</th>\n",
       "      <td>0.0</td>\n",
       "      <td>1.0</td>\n",
       "      <td>0.0</td>\n",
       "      <td>1.0</td>\n",
       "      <td>0.0</td>\n",
       "      <td>0.0</td>\n",
       "      <td>1.0</td>\n",
       "      <td>0.0</td>\n",
       "      <td>0.0</td>\n",
       "      <td>0.0</td>\n",
       "      <td>...</td>\n",
       "      <td>0.0</td>\n",
       "      <td>0.0</td>\n",
       "      <td>0.0</td>\n",
       "      <td>1.0</td>\n",
       "      <td>0.0</td>\n",
       "      <td>0.0</td>\n",
       "      <td>0.0</td>\n",
       "      <td>0.0</td>\n",
       "      <td>0.0</td>\n",
       "      <td>0.0</td>\n",
       "    </tr>\n",
       "  </tbody>\n",
       "</table>\n",
       "<p>1000 rows × 22 columns</p>\n",
       "</div>"
      ],
      "text/plain": [
       "      0    1    2    3    4    5    6    7    8    9   ...   12   13   14  \\\n",
       "0    0.0  1.0  0.0  1.0  0.0  0.0  0.0  1.0  0.0  0.0  ...  0.0  0.0  0.0   \n",
       "1    1.0  0.0  0.0  1.0  0.0  1.0  0.0  0.0  0.0  0.0  ...  0.0  0.0  0.0   \n",
       "2    0.0  1.0  0.0  1.0  0.0  1.0  0.0  0.0  0.0  0.0  ...  1.0  0.0  0.0   \n",
       "3    0.0  1.0  1.0  0.0  0.0  1.0  0.0  0.0  0.0  0.0  ...  0.0  0.0  0.0   \n",
       "4    0.0  1.0  1.0  0.0  0.0  1.0  0.0  0.0  0.0  0.0  ...  0.0  0.0  0.0   \n",
       "..   ...  ...  ...  ...  ...  ...  ...  ...  ...  ...  ...  ...  ...  ...   \n",
       "995  1.0  0.0  0.0  1.0  0.0  1.0  0.0  0.0  0.0  0.0  ...  1.0  0.0  0.0   \n",
       "996  0.0  1.0  0.0  1.0  0.0  1.0  0.0  0.0  0.0  0.0  ...  0.0  0.0  0.0   \n",
       "997  0.0  1.0  0.0  1.0  0.0  1.0  0.0  0.0  0.0  0.0  ...  1.0  0.0  0.0   \n",
       "998  0.0  1.0  1.0  0.0  0.0  1.0  0.0  0.0  0.0  0.0  ...  0.0  0.0  0.0   \n",
       "999  0.0  1.0  0.0  1.0  0.0  0.0  1.0  0.0  0.0  0.0  ...  0.0  0.0  0.0   \n",
       "\n",
       "      15   16   17   18   19   20   21  \n",
       "0    0.0  0.0  0.0  0.0  1.0  0.0  0.0  \n",
       "1    0.0  0.0  0.0  0.0  1.0  0.0  0.0  \n",
       "2    0.0  0.0  1.0  0.0  0.0  0.0  0.0  \n",
       "3    0.0  0.0  0.0  1.0  0.0  0.0  0.0  \n",
       "4    1.0  0.0  0.0  0.0  0.0  0.0  0.0  \n",
       "..   ...  ...  ...  ...  ...  ...  ...  \n",
       "995  0.0  0.0  0.0  1.0  0.0  0.0  0.0  \n",
       "996  1.0  0.0  0.0  0.0  0.0  0.0  0.0  \n",
       "997  0.0  0.0  0.0  0.0  1.0  0.0  0.0  \n",
       "998  0.0  0.0  0.0  0.0  1.0  0.0  0.0  \n",
       "999  1.0  0.0  0.0  0.0  0.0  0.0  0.0  \n",
       "\n",
       "[1000 rows x 22 columns]"
      ]
     },
     "execution_count": 23,
     "metadata": {},
     "output_type": "execute_result"
    }
   ],
   "source": [
    "onehot_enc = OneHotEncoder(sparse=False)\n",
    "\n",
    "encoded = onehot_enc.fit_transform(df_bef_enc)\n",
    "encoded = pd.DataFrame(encoded)\n",
    "encoded"
   ]
  },
  {
   "cell_type": "code",
   "execution_count": 24,
   "metadata": {},
   "outputs": [
    {
     "data": {
      "text/html": [
       "<div>\n",
       "<style scoped>\n",
       "    .dataframe tbody tr th:only-of-type {\n",
       "        vertical-align: middle;\n",
       "    }\n",
       "\n",
       "    .dataframe tbody tr th {\n",
       "        vertical-align: top;\n",
       "    }\n",
       "\n",
       "    .dataframe thead th {\n",
       "        text-align: right;\n",
       "    }\n",
       "</style>\n",
       "<table border=\"1\" class=\"dataframe\">\n",
       "  <thead>\n",
       "    <tr style=\"text-align: right;\">\n",
       "      <th></th>\n",
       "      <th>0</th>\n",
       "      <th>1</th>\n",
       "      <th>2</th>\n",
       "      <th>3</th>\n",
       "      <th>4</th>\n",
       "      <th>5</th>\n",
       "      <th>6</th>\n",
       "      <th>7</th>\n",
       "      <th>8</th>\n",
       "      <th>9</th>\n",
       "      <th>...</th>\n",
       "      <th>13</th>\n",
       "      <th>14</th>\n",
       "      <th>15</th>\n",
       "      <th>16</th>\n",
       "      <th>17</th>\n",
       "      <th>18</th>\n",
       "      <th>19</th>\n",
       "      <th>20</th>\n",
       "      <th>21</th>\n",
       "      <th>22</th>\n",
       "    </tr>\n",
       "  </thead>\n",
       "  <tbody>\n",
       "    <tr>\n",
       "      <th>0</th>\n",
       "      <td>0.0</td>\n",
       "      <td>1.0</td>\n",
       "      <td>0.0</td>\n",
       "      <td>1.0</td>\n",
       "      <td>0.0</td>\n",
       "      <td>0.0</td>\n",
       "      <td>0.0</td>\n",
       "      <td>1.0</td>\n",
       "      <td>0.0</td>\n",
       "      <td>0.0</td>\n",
       "      <td>...</td>\n",
       "      <td>0.0</td>\n",
       "      <td>0.0</td>\n",
       "      <td>0.0</td>\n",
       "      <td>0.0</td>\n",
       "      <td>0.0</td>\n",
       "      <td>0.0</td>\n",
       "      <td>1.0</td>\n",
       "      <td>0.0</td>\n",
       "      <td>0.0</td>\n",
       "      <td>2.0</td>\n",
       "    </tr>\n",
       "    <tr>\n",
       "      <th>1</th>\n",
       "      <td>1.0</td>\n",
       "      <td>0.0</td>\n",
       "      <td>0.0</td>\n",
       "      <td>1.0</td>\n",
       "      <td>0.0</td>\n",
       "      <td>1.0</td>\n",
       "      <td>0.0</td>\n",
       "      <td>0.0</td>\n",
       "      <td>0.0</td>\n",
       "      <td>0.0</td>\n",
       "      <td>...</td>\n",
       "      <td>0.0</td>\n",
       "      <td>0.0</td>\n",
       "      <td>0.0</td>\n",
       "      <td>0.0</td>\n",
       "      <td>0.0</td>\n",
       "      <td>0.0</td>\n",
       "      <td>1.0</td>\n",
       "      <td>0.0</td>\n",
       "      <td>0.0</td>\n",
       "      <td>2.0</td>\n",
       "    </tr>\n",
       "    <tr>\n",
       "      <th>2</th>\n",
       "      <td>0.0</td>\n",
       "      <td>1.0</td>\n",
       "      <td>0.0</td>\n",
       "      <td>1.0</td>\n",
       "      <td>0.0</td>\n",
       "      <td>1.0</td>\n",
       "      <td>0.0</td>\n",
       "      <td>0.0</td>\n",
       "      <td>0.0</td>\n",
       "      <td>0.0</td>\n",
       "      <td>...</td>\n",
       "      <td>0.0</td>\n",
       "      <td>0.0</td>\n",
       "      <td>0.0</td>\n",
       "      <td>0.0</td>\n",
       "      <td>1.0</td>\n",
       "      <td>0.0</td>\n",
       "      <td>0.0</td>\n",
       "      <td>0.0</td>\n",
       "      <td>0.0</td>\n",
       "      <td>1.0</td>\n",
       "    </tr>\n",
       "    <tr>\n",
       "      <th>3</th>\n",
       "      <td>0.0</td>\n",
       "      <td>1.0</td>\n",
       "      <td>1.0</td>\n",
       "      <td>0.0</td>\n",
       "      <td>0.0</td>\n",
       "      <td>1.0</td>\n",
       "      <td>0.0</td>\n",
       "      <td>0.0</td>\n",
       "      <td>0.0</td>\n",
       "      <td>0.0</td>\n",
       "      <td>...</td>\n",
       "      <td>0.0</td>\n",
       "      <td>0.0</td>\n",
       "      <td>0.0</td>\n",
       "      <td>0.0</td>\n",
       "      <td>0.0</td>\n",
       "      <td>1.0</td>\n",
       "      <td>0.0</td>\n",
       "      <td>0.0</td>\n",
       "      <td>0.0</td>\n",
       "      <td>2.0</td>\n",
       "    </tr>\n",
       "    <tr>\n",
       "      <th>4</th>\n",
       "      <td>0.0</td>\n",
       "      <td>1.0</td>\n",
       "      <td>1.0</td>\n",
       "      <td>0.0</td>\n",
       "      <td>0.0</td>\n",
       "      <td>1.0</td>\n",
       "      <td>0.0</td>\n",
       "      <td>0.0</td>\n",
       "      <td>0.0</td>\n",
       "      <td>0.0</td>\n",
       "      <td>...</td>\n",
       "      <td>0.0</td>\n",
       "      <td>0.0</td>\n",
       "      <td>1.0</td>\n",
       "      <td>0.0</td>\n",
       "      <td>0.0</td>\n",
       "      <td>0.0</td>\n",
       "      <td>0.0</td>\n",
       "      <td>0.0</td>\n",
       "      <td>0.0</td>\n",
       "      <td>2.0</td>\n",
       "    </tr>\n",
       "  </tbody>\n",
       "</table>\n",
       "<p>5 rows × 23 columns</p>\n",
       "</div>"
      ],
      "text/plain": [
       "    0    1    2    3    4    5    6    7    8    9   ...   13   14   15   16  \\\n",
       "0  0.0  1.0  0.0  1.0  0.0  0.0  0.0  1.0  0.0  0.0  ...  0.0  0.0  0.0  0.0   \n",
       "1  1.0  0.0  0.0  1.0  0.0  1.0  0.0  0.0  0.0  0.0  ...  0.0  0.0  0.0  0.0   \n",
       "2  0.0  1.0  0.0  1.0  0.0  1.0  0.0  0.0  0.0  0.0  ...  0.0  0.0  0.0  0.0   \n",
       "3  0.0  1.0  1.0  0.0  0.0  1.0  0.0  0.0  0.0  0.0  ...  0.0  0.0  0.0  0.0   \n",
       "4  0.0  1.0  1.0  0.0  0.0  1.0  0.0  0.0  0.0  0.0  ...  0.0  0.0  1.0  0.0   \n",
       "\n",
       "    17   18   19   20   21   22  \n",
       "0  0.0  0.0  1.0  0.0  0.0  2.0  \n",
       "1  0.0  0.0  1.0  0.0  0.0  2.0  \n",
       "2  1.0  0.0  0.0  0.0  0.0  1.0  \n",
       "3  0.0  1.0  0.0  0.0  0.0  2.0  \n",
       "4  0.0  0.0  0.0  0.0  0.0  2.0  \n",
       "\n",
       "[5 rows x 23 columns]"
      ]
     },
     "execution_count": 24,
     "metadata": {},
     "output_type": "execute_result"
    }
   ],
   "source": [
    "#Combining with encoded column\n",
    "encoded_data1 = np.concatenate([encoded, df_job], axis=1)\n",
    "\n",
    "encoded_data = pd.DataFrame(encoded_data1)\n",
    "encoded_data.head()"
   ]
  },
  {
   "cell_type": "markdown",
   "metadata": {},
   "source": [
    "### Scaling Data\n",
    "\n",
    "This is done because the differences between cases are large in Age, Job, Credit amount, and Duration columns. Therefore, a scaling is needed."
   ]
  },
  {
   "cell_type": "code",
   "execution_count": 28,
   "metadata": {},
   "outputs": [
    {
     "data": {
      "text/html": [
       "<div>\n",
       "<style scoped>\n",
       "    .dataframe tbody tr th:only-of-type {\n",
       "        vertical-align: middle;\n",
       "    }\n",
       "\n",
       "    .dataframe tbody tr th {\n",
       "        vertical-align: top;\n",
       "    }\n",
       "\n",
       "    .dataframe thead th {\n",
       "        text-align: right;\n",
       "    }\n",
       "</style>\n",
       "<table border=\"1\" class=\"dataframe\">\n",
       "  <thead>\n",
       "    <tr style=\"text-align: right;\">\n",
       "      <th></th>\n",
       "      <th>Age</th>\n",
       "      <th>Credit amount</th>\n",
       "      <th>Duration</th>\n",
       "    </tr>\n",
       "  </thead>\n",
       "  <tbody>\n",
       "    <tr>\n",
       "      <th>0</th>\n",
       "      <td>67</td>\n",
       "      <td>14494431</td>\n",
       "      <td>6</td>\n",
       "    </tr>\n",
       "    <tr>\n",
       "      <th>1</th>\n",
       "      <td>22</td>\n",
       "      <td>73786449</td>\n",
       "      <td>48</td>\n",
       "    </tr>\n",
       "    <tr>\n",
       "      <th>2</th>\n",
       "      <td>49</td>\n",
       "      <td>25988304</td>\n",
       "      <td>12</td>\n",
       "    </tr>\n",
       "    <tr>\n",
       "      <th>3</th>\n",
       "      <td>45</td>\n",
       "      <td>97728918</td>\n",
       "      <td>42</td>\n",
       "    </tr>\n",
       "    <tr>\n",
       "      <th>4</th>\n",
       "      <td>53</td>\n",
       "      <td>60383130</td>\n",
       "      <td>24</td>\n",
       "    </tr>\n",
       "  </tbody>\n",
       "</table>\n",
       "</div>"
      ],
      "text/plain": [
       "   Age  Credit amount  Duration\n",
       "0   67       14494431         6\n",
       "1   22       73786449        48\n",
       "2   49       25988304        12\n",
       "3   45       97728918        42\n",
       "4   53       60383130        24"
      ]
     },
     "execution_count": 28,
     "metadata": {},
     "output_type": "execute_result"
    }
   ],
   "source": [
    "#Defining Numerical Data\n",
    "df2_num = df2_cluster[['Age', 'Credit amount', 'Duration']]\n",
    "df2_num.head()"
   ]
  },
  {
   "cell_type": "markdown",
   "metadata": {},
   "source": [
    "**Checking Outliers**"
   ]
  },
  {
   "cell_type": "code",
   "execution_count": 29,
   "metadata": {},
   "outputs": [],
   "source": [
    "def diagnostic_plots(df2_num, variable):\n",
    "    # Define figure size\n",
    "    plt.figure(figsize=(16, 4))\n",
    "\n",
    "    # Histogram\n",
    "    plt.subplot(1, 2, 1)\n",
    "    sns.histplot(df2_num[variable], bins=30)\n",
    "    plt.title('Histogram')\n",
    "\n",
    "    # Boxplot\n",
    "    plt.subplot(1, 2, 2)\n",
    "    sns.boxplot(y=df2_num[variable])\n",
    "    plt.title('Boxplot')\n",
    "\n",
    "    plt.show()"
   ]
  },
  {
   "cell_type": "code",
   "execution_count": 30,
   "metadata": {},
   "outputs": [
    {
     "data": {
      "image/png": "[encoded data removed]",
      "text/plain": [
       "<Figure size 1152x288 with 2 Axes>"
      ]
     },
     "metadata": {
      "needs_background": "light"
     },
     "output_type": "display_data"
    },
    {
     "name": "stdout",
     "output_type": "stream",
     "text": [
      "None\n"
     ]
    },
    {
     "data": {
      "image/png": "[encoded data removed]",
      "text/plain": [
       "<Figure size 1152x288 with 2 Axes>"
      ]
     },
     "metadata": {
      "needs_background": "light"
     },
     "output_type": "display_data"
    },
    {
     "name": "stdout",
     "output_type": "stream",
     "text": [
      "None\n"
     ]
    },
    {
     "data": {
      "image/png": "[encoded data removed]",
      "text/plain": [
       "<Figure size 1152x288 with 2 Axes>"
      ]
     },
     "metadata": {
      "needs_background": "light"
     },
     "output_type": "display_data"
    },
    {
     "name": "stdout",
     "output_type": "stream",
     "text": [
      "None\n"
     ]
    }
   ],
   "source": [
    "print(diagnostic_plots(df2_num, 'Age'))\n",
    "print(diagnostic_plots(df2_num, 'Credit amount'))\n",
    "print(diagnostic_plots(df2_num, 'Duration'))"
   ]
  },
  {
   "cell_type": "code",
   "execution_count": 31,
   "metadata": {},
   "outputs": [
    {
     "data": {
      "text/plain": [
       "Age              1.020739\n",
       "Credit amount    1.949628\n",
       "Duration         1.094184\n",
       "dtype: float64"
      ]
     },
     "execution_count": 31,
     "metadata": {},
     "output_type": "execute_result"
    }
   ],
   "source": [
    "df2_num.skew()"
   ]
  },
  {
   "cell_type": "code",
   "execution_count": 32,
   "metadata": {},
   "outputs": [
    {
     "data": {
      "text/html": [
       "<div>\n",
       "<style scoped>\n",
       "    .dataframe tbody tr th:only-of-type {\n",
       "        vertical-align: middle;\n",
       "    }\n",
       "\n",
       "    .dataframe tbody tr th {\n",
       "        vertical-align: top;\n",
       "    }\n",
       "\n",
       "    .dataframe thead th {\n",
       "        text-align: right;\n",
       "    }\n",
       "</style>\n",
       "<table border=\"1\" class=\"dataframe\">\n",
       "  <thead>\n",
       "    <tr style=\"text-align: right;\">\n",
       "      <th></th>\n",
       "      <th>Age</th>\n",
       "      <th>Credit amount</th>\n",
       "      <th>Duration</th>\n",
       "    </tr>\n",
       "  </thead>\n",
       "  <tbody>\n",
       "    <tr>\n",
       "      <th>0</th>\n",
       "      <td>67</td>\n",
       "      <td>14494431</td>\n",
       "      <td>6</td>\n",
       "    </tr>\n",
       "    <tr>\n",
       "      <th>1</th>\n",
       "      <td>22</td>\n",
       "      <td>73786449</td>\n",
       "      <td>48</td>\n",
       "    </tr>\n",
       "    <tr>\n",
       "      <th>2</th>\n",
       "      <td>49</td>\n",
       "      <td>25988304</td>\n",
       "      <td>12</td>\n",
       "    </tr>\n",
       "    <tr>\n",
       "      <th>3</th>\n",
       "      <td>45</td>\n",
       "      <td>97728918</td>\n",
       "      <td>42</td>\n",
       "    </tr>\n",
       "    <tr>\n",
       "      <th>4</th>\n",
       "      <td>53</td>\n",
       "      <td>60383130</td>\n",
       "      <td>24</td>\n",
       "    </tr>\n",
       "  </tbody>\n",
       "</table>\n",
       "</div>"
      ],
      "text/plain": [
       "   Age  Credit amount  Duration\n",
       "0   67       14494431         6\n",
       "1   22       73786449        48\n",
       "2   49       25988304        12\n",
       "3   45       97728918        42\n",
       "4   53       60383130        24"
      ]
     },
     "execution_count": 32,
     "metadata": {},
     "output_type": "execute_result"
    }
   ],
   "source": [
    "#Defining scaler\n",
    "scaler = MinMaxScaler()\n",
    "df2_num.head()"
   ]
  },
  {
   "cell_type": "code",
   "execution_count": 33,
   "metadata": {},
   "outputs": [],
   "source": [
    "#fitting and transforming scaler\n",
    "scaled = scaler.fit_transform(df2_num)\n",
    "scaled_data = pd.DataFrame(scaled)"
   ]
  },
  {
   "cell_type": "markdown",
   "metadata": {},
   "source": [
    "### Combining Categorical and Numerical Data"
   ]
  },
  {
   "cell_type": "code",
   "execution_count": 35,
   "metadata": {},
   "outputs": [
    {
     "data": {
      "text/html": [
       "<div>\n",
       "<style scoped>\n",
       "    .dataframe tbody tr th:only-of-type {\n",
       "        vertical-align: middle;\n",
       "    }\n",
       "\n",
       "    .dataframe tbody tr th {\n",
       "        vertical-align: top;\n",
       "    }\n",
       "\n",
       "    .dataframe thead th {\n",
       "        text-align: right;\n",
       "    }\n",
       "</style>\n",
       "<table border=\"1\" class=\"dataframe\">\n",
       "  <thead>\n",
       "    <tr style=\"text-align: right;\">\n",
       "      <th></th>\n",
       "      <th>0</th>\n",
       "      <th>1</th>\n",
       "      <th>2</th>\n",
       "      <th>3</th>\n",
       "      <th>4</th>\n",
       "      <th>5</th>\n",
       "      <th>6</th>\n",
       "      <th>7</th>\n",
       "      <th>8</th>\n",
       "      <th>9</th>\n",
       "      <th>...</th>\n",
       "      <th>16</th>\n",
       "      <th>17</th>\n",
       "      <th>18</th>\n",
       "      <th>19</th>\n",
       "      <th>20</th>\n",
       "      <th>21</th>\n",
       "      <th>22</th>\n",
       "      <th>0</th>\n",
       "      <th>1</th>\n",
       "      <th>2</th>\n",
       "    </tr>\n",
       "  </thead>\n",
       "  <tbody>\n",
       "    <tr>\n",
       "      <th>0</th>\n",
       "      <td>0.0</td>\n",
       "      <td>1.0</td>\n",
       "      <td>0.0</td>\n",
       "      <td>1.0</td>\n",
       "      <td>0.0</td>\n",
       "      <td>0.0</td>\n",
       "      <td>0.0</td>\n",
       "      <td>1.0</td>\n",
       "      <td>0.0</td>\n",
       "      <td>0.0</td>\n",
       "      <td>...</td>\n",
       "      <td>0.0</td>\n",
       "      <td>0.0</td>\n",
       "      <td>0.0</td>\n",
       "      <td>1.0</td>\n",
       "      <td>0.0</td>\n",
       "      <td>0.0</td>\n",
       "      <td>2.0</td>\n",
       "      <td>0.857143</td>\n",
       "      <td>0.050567</td>\n",
       "      <td>0.029412</td>\n",
       "    </tr>\n",
       "    <tr>\n",
       "      <th>1</th>\n",
       "      <td>1.0</td>\n",
       "      <td>0.0</td>\n",
       "      <td>0.0</td>\n",
       "      <td>1.0</td>\n",
       "      <td>0.0</td>\n",
       "      <td>1.0</td>\n",
       "      <td>0.0</td>\n",
       "      <td>0.0</td>\n",
       "      <td>0.0</td>\n",
       "      <td>0.0</td>\n",
       "      <td>...</td>\n",
       "      <td>0.0</td>\n",
       "      <td>0.0</td>\n",
       "      <td>0.0</td>\n",
       "      <td>1.0</td>\n",
       "      <td>0.0</td>\n",
       "      <td>0.0</td>\n",
       "      <td>2.0</td>\n",
       "      <td>0.053571</td>\n",
       "      <td>0.313690</td>\n",
       "      <td>0.647059</td>\n",
       "    </tr>\n",
       "    <tr>\n",
       "      <th>2</th>\n",
       "      <td>0.0</td>\n",
       "      <td>1.0</td>\n",
       "      <td>0.0</td>\n",
       "      <td>1.0</td>\n",
       "      <td>0.0</td>\n",
       "      <td>1.0</td>\n",
       "      <td>0.0</td>\n",
       "      <td>0.0</td>\n",
       "      <td>0.0</td>\n",
       "      <td>0.0</td>\n",
       "      <td>...</td>\n",
       "      <td>0.0</td>\n",
       "      <td>1.0</td>\n",
       "      <td>0.0</td>\n",
       "      <td>0.0</td>\n",
       "      <td>0.0</td>\n",
       "      <td>0.0</td>\n",
       "      <td>1.0</td>\n",
       "      <td>0.535714</td>\n",
       "      <td>0.101574</td>\n",
       "      <td>0.117647</td>\n",
       "    </tr>\n",
       "    <tr>\n",
       "      <th>3</th>\n",
       "      <td>0.0</td>\n",
       "      <td>1.0</td>\n",
       "      <td>1.0</td>\n",
       "      <td>0.0</td>\n",
       "      <td>0.0</td>\n",
       "      <td>1.0</td>\n",
       "      <td>0.0</td>\n",
       "      <td>0.0</td>\n",
       "      <td>0.0</td>\n",
       "      <td>0.0</td>\n",
       "      <td>...</td>\n",
       "      <td>0.0</td>\n",
       "      <td>0.0</td>\n",
       "      <td>1.0</td>\n",
       "      <td>0.0</td>\n",
       "      <td>0.0</td>\n",
       "      <td>0.0</td>\n",
       "      <td>2.0</td>\n",
       "      <td>0.464286</td>\n",
       "      <td>0.419941</td>\n",
       "      <td>0.558824</td>\n",
       "    </tr>\n",
       "    <tr>\n",
       "      <th>4</th>\n",
       "      <td>0.0</td>\n",
       "      <td>1.0</td>\n",
       "      <td>1.0</td>\n",
       "      <td>0.0</td>\n",
       "      <td>0.0</td>\n",
       "      <td>1.0</td>\n",
       "      <td>0.0</td>\n",
       "      <td>0.0</td>\n",
       "      <td>0.0</td>\n",
       "      <td>0.0</td>\n",
       "      <td>...</td>\n",
       "      <td>0.0</td>\n",
       "      <td>0.0</td>\n",
       "      <td>0.0</td>\n",
       "      <td>0.0</td>\n",
       "      <td>0.0</td>\n",
       "      <td>0.0</td>\n",
       "      <td>2.0</td>\n",
       "      <td>0.607143</td>\n",
       "      <td>0.254209</td>\n",
       "      <td>0.294118</td>\n",
       "    </tr>\n",
       "    <tr>\n",
       "      <th>...</th>\n",
       "      <td>...</td>\n",
       "      <td>...</td>\n",
       "      <td>...</td>\n",
       "      <td>...</td>\n",
       "      <td>...</td>\n",
       "      <td>...</td>\n",
       "      <td>...</td>\n",
       "      <td>...</td>\n",
       "      <td>...</td>\n",
       "      <td>...</td>\n",
       "      <td>...</td>\n",
       "      <td>...</td>\n",
       "      <td>...</td>\n",
       "      <td>...</td>\n",
       "      <td>...</td>\n",
       "      <td>...</td>\n",
       "      <td>...</td>\n",
       "      <td>...</td>\n",
       "      <td>...</td>\n",
       "      <td>...</td>\n",
       "      <td>...</td>\n",
       "    </tr>\n",
       "    <tr>\n",
       "      <th>995</th>\n",
       "      <td>1.0</td>\n",
       "      <td>0.0</td>\n",
       "      <td>0.0</td>\n",
       "      <td>1.0</td>\n",
       "      <td>0.0</td>\n",
       "      <td>1.0</td>\n",
       "      <td>0.0</td>\n",
       "      <td>0.0</td>\n",
       "      <td>0.0</td>\n",
       "      <td>0.0</td>\n",
       "      <td>...</td>\n",
       "      <td>0.0</td>\n",
       "      <td>0.0</td>\n",
       "      <td>1.0</td>\n",
       "      <td>0.0</td>\n",
       "      <td>0.0</td>\n",
       "      <td>0.0</td>\n",
       "      <td>1.0</td>\n",
       "      <td>0.214286</td>\n",
       "      <td>0.081765</td>\n",
       "      <td>0.117647</td>\n",
       "    </tr>\n",
       "    <tr>\n",
       "      <th>996</th>\n",
       "      <td>0.0</td>\n",
       "      <td>1.0</td>\n",
       "      <td>0.0</td>\n",
       "      <td>1.0</td>\n",
       "      <td>0.0</td>\n",
       "      <td>1.0</td>\n",
       "      <td>0.0</td>\n",
       "      <td>0.0</td>\n",
       "      <td>0.0</td>\n",
       "      <td>0.0</td>\n",
       "      <td>...</td>\n",
       "      <td>0.0</td>\n",
       "      <td>0.0</td>\n",
       "      <td>0.0</td>\n",
       "      <td>0.0</td>\n",
       "      <td>0.0</td>\n",
       "      <td>0.0</td>\n",
       "      <td>3.0</td>\n",
       "      <td>0.375000</td>\n",
       "      <td>0.198470</td>\n",
       "      <td>0.382353</td>\n",
       "    </tr>\n",
       "    <tr>\n",
       "      <th>997</th>\n",
       "      <td>0.0</td>\n",
       "      <td>1.0</td>\n",
       "      <td>0.0</td>\n",
       "      <td>1.0</td>\n",
       "      <td>0.0</td>\n",
       "      <td>1.0</td>\n",
       "      <td>0.0</td>\n",
       "      <td>0.0</td>\n",
       "      <td>0.0</td>\n",
       "      <td>0.0</td>\n",
       "      <td>...</td>\n",
       "      <td>0.0</td>\n",
       "      <td>0.0</td>\n",
       "      <td>0.0</td>\n",
       "      <td>1.0</td>\n",
       "      <td>0.0</td>\n",
       "      <td>0.0</td>\n",
       "      <td>2.0</td>\n",
       "      <td>0.339286</td>\n",
       "      <td>0.030483</td>\n",
       "      <td>0.117647</td>\n",
       "    </tr>\n",
       "    <tr>\n",
       "      <th>998</th>\n",
       "      <td>0.0</td>\n",
       "      <td>1.0</td>\n",
       "      <td>1.0</td>\n",
       "      <td>0.0</td>\n",
       "      <td>0.0</td>\n",
       "      <td>1.0</td>\n",
       "      <td>0.0</td>\n",
       "      <td>0.0</td>\n",
       "      <td>0.0</td>\n",
       "      <td>0.0</td>\n",
       "      <td>...</td>\n",
       "      <td>0.0</td>\n",
       "      <td>0.0</td>\n",
       "      <td>0.0</td>\n",
       "      <td>1.0</td>\n",
       "      <td>0.0</td>\n",
       "      <td>0.0</td>\n",
       "      <td>2.0</td>\n",
       "      <td>0.071429</td>\n",
       "      <td>0.087763</td>\n",
       "      <td>0.602941</td>\n",
       "    </tr>\n",
       "    <tr>\n",
       "      <th>999</th>\n",
       "      <td>0.0</td>\n",
       "      <td>1.0</td>\n",
       "      <td>0.0</td>\n",
       "      <td>1.0</td>\n",
       "      <td>0.0</td>\n",
       "      <td>0.0</td>\n",
       "      <td>1.0</td>\n",
       "      <td>0.0</td>\n",
       "      <td>0.0</td>\n",
       "      <td>0.0</td>\n",
       "      <td>...</td>\n",
       "      <td>0.0</td>\n",
       "      <td>0.0</td>\n",
       "      <td>0.0</td>\n",
       "      <td>0.0</td>\n",
       "      <td>0.0</td>\n",
       "      <td>0.0</td>\n",
       "      <td>2.0</td>\n",
       "      <td>0.142857</td>\n",
       "      <td>0.238032</td>\n",
       "      <td>0.602941</td>\n",
       "    </tr>\n",
       "  </tbody>\n",
       "</table>\n",
       "<p>1000 rows × 26 columns</p>\n",
       "</div>"
      ],
      "text/plain": [
       "      0    1    2    3    4    5    6    7    8    9   ...   16   17   18  \\\n",
       "0    0.0  1.0  0.0  1.0  0.0  0.0  0.0  1.0  0.0  0.0  ...  0.0  0.0  0.0   \n",
       "1    1.0  0.0  0.0  1.0  0.0  1.0  0.0  0.0  0.0  0.0  ...  0.0  0.0  0.0   \n",
       "2    0.0  1.0  0.0  1.0  0.0  1.0  0.0  0.0  0.0  0.0  ...  0.0  1.0  0.0   \n",
       "3    0.0  1.0  1.0  0.0  0.0  1.0  0.0  0.0  0.0  0.0  ...  0.0  0.0  1.0   \n",
       "4    0.0  1.0  1.0  0.0  0.0  1.0  0.0  0.0  0.0  0.0  ...  0.0  0.0  0.0   \n",
       "..   ...  ...  ...  ...  ...  ...  ...  ...  ...  ...  ...  ...  ...  ...   \n",
       "995  1.0  0.0  0.0  1.0  0.0  1.0  0.0  0.0  0.0  0.0  ...  0.0  0.0  1.0   \n",
       "996  0.0  1.0  0.0  1.0  0.0  1.0  0.0  0.0  0.0  0.0  ...  0.0  0.0  0.0   \n",
       "997  0.0  1.0  0.0  1.0  0.0  1.0  0.0  0.0  0.0  0.0  ...  0.0  0.0  0.0   \n",
       "998  0.0  1.0  1.0  0.0  0.0  1.0  0.0  0.0  0.0  0.0  ...  0.0  0.0  0.0   \n",
       "999  0.0  1.0  0.0  1.0  0.0  0.0  1.0  0.0  0.0  0.0  ...  0.0  0.0  0.0   \n",
       "\n",
       "      19   20   21   22        0         1         2   \n",
       "0    1.0  0.0  0.0  2.0  0.857143  0.050567  0.029412  \n",
       "1    1.0  0.0  0.0  2.0  0.053571  0.313690  0.647059  \n",
       "2    0.0  0.0  0.0  1.0  0.535714  0.101574  0.117647  \n",
       "3    0.0  0.0  0.0  2.0  0.464286  0.419941  0.558824  \n",
       "4    0.0  0.0  0.0  2.0  0.607143  0.254209  0.294118  \n",
       "..   ...  ...  ...  ...       ...       ...       ...  \n",
       "995  0.0  0.0  0.0  1.0  0.214286  0.081765  0.117647  \n",
       "996  0.0  0.0  0.0  3.0  0.375000  0.198470  0.382353  \n",
       "997  1.0  0.0  0.0  2.0  0.339286  0.030483  0.117647  \n",
       "998  1.0  0.0  0.0  2.0  0.071429  0.087763  0.602941  \n",
       "999  0.0  0.0  0.0  2.0  0.142857  0.238032  0.602941  \n",
       "\n",
       "[1000 rows x 26 columns]"
      ]
     },
     "execution_count": 35,
     "metadata": {},
     "output_type": "execute_result"
    }
   ],
   "source": [
    "df2_fin = pd.DataFrame([])\n",
    "df2_fin = pd.concat([encoded_data,scaled_data],axis=1)\n",
    "df2_fin"
   ]
  },
  {
   "cell_type": "markdown",
   "metadata": {},
   "source": [
    "### PCA"
   ]
  },
  {
   "cell_type": "code",
   "execution_count": 42,
   "metadata": {},
   "outputs": [
    {
     "data": {
      "text/plain": [
       "array([1.43430280e-01, 1.25795768e-01, 1.17155255e-01, 1.00763289e-01,\n",
       "       8.90751793e-02, 7.60643122e-02, 6.38483852e-02, 5.94817766e-02,\n",
       "       3.91498770e-02, 3.60261345e-02, 3.27067940e-02, 2.28075822e-02,\n",
       "       2.13055250e-02, 1.89452754e-02, 1.52123640e-02, 1.10515029e-02,\n",
       "       9.35938820e-03, 7.55563369e-03, 4.22145206e-03, 3.47230733e-03,\n",
       "       2.57191821e-03, 1.05830449e-32, 4.01401022e-33, 2.49990711e-33,\n",
       "       1.21612521e-33])"
      ]
     },
     "execution_count": 42,
     "metadata": {},
     "output_type": "execute_result"
    }
   ],
   "source": [
    "#Checking the best reduction\n",
    "pca = PCA(n_components = 25).fit(df2_fin)\n",
    "pca.explained_variance_ratio_"
   ]
  },
  {
   "cell_type": "code",
   "execution_count": 43,
   "metadata": {},
   "outputs": [
    {
     "data": {
      "image/png": "[encoded data removed]",
      "text/plain": [
       "<Figure size 1296x432 with 2 Axes>"
      ]
     },
     "metadata": {
      "needs_background": "light"
     },
     "output_type": "display_data"
    }
   ],
   "source": [
    "#Elbow method\n",
    "fig,ax=plt.subplots(ncols=2, figsize=(18, 6))\n",
    "ax[0].plot(range(1,26), pca.explained_variance_ratio_)\n",
    "ax[0].set_xlabel('Komponen')\n",
    "ax[0].set_ylabel('Explained Variance Ratio')\n",
    "\n",
    "ax[1].plot(range(1,26), np.cumsum(pca.explained_variance_ratio_))\n",
    "ax[1].set_xlabel('Jumlah Komponen')\n",
    "ax[1].set_ylabel('Kumulatif Explained Var Ratio')\n",
    "plt.show()"
   ]
  },
  {
   "cell_type": "code",
   "execution_count": 44,
   "metadata": {},
   "outputs": [],
   "source": [
    "#inputting the intended dimension reduction\n",
    "pca = PCA(n_components=0.95)\n",
    "df_pca = pca.fit_transform(df2_fin)"
   ]
  },
  {
   "cell_type": "code",
   "execution_count": 45,
   "metadata": {},
   "outputs": [],
   "source": [
    "#for visualization\n",
    "pca2 = PCA(n_components=2)\n",
    "df_pca2 = pca2.fit_transform(df2_fin)"
   ]
  },
  {
   "cell_type": "markdown",
   "metadata": {},
   "source": [
    "### Modeling"
   ]
  },
  {
   "cell_type": "markdown",
   "metadata": {},
   "source": [
    "**K means**"
   ]
  },
  {
   "cell_type": "code",
   "execution_count": 46,
   "metadata": {},
   "outputs": [
    {
     "data": {
      "image/png": "[encoded data removed]",
      "text/plain": [
       "<Figure size 576x360 with 1 Axes>"
      ]
     },
     "metadata": {
      "needs_background": "light"
     },
     "output_type": "display_data"
    }
   ],
   "source": [
    "#check the optimal k value\n",
    "ks = range(1, 10)\n",
    "inertias = []\n",
    "\n",
    "for k in ks:\n",
    "    model = KMeans(n_clusters=k)\n",
    "    model.fit(df_pca)\n",
    "    inertias.append(model.inertia_)\n",
    "\n",
    "plt.figure(figsize=(8,5))\n",
    "plt.style.use('bmh')\n",
    "plt.plot(ks, inertias, '-o')\n",
    "plt.xlabel('Number of clusters, k')\n",
    "plt.ylabel('Inertia')\n",
    "plt.xticks(ks)\n",
    "plt.show()"
   ]
  },
  {
   "cell_type": "code",
   "execution_count": 47,
   "metadata": {},
   "outputs": [],
   "source": [
    "kmeans_per_k = [KMeans(n_clusters=k, random_state=101).fit(df_pca)\n",
    "                for k in range(1, 10)]"
   ]
  },
  {
   "cell_type": "code",
   "execution_count": 48,
   "metadata": {},
   "outputs": [],
   "source": [
    "silhouette_scores = [silhouette_score(df_pca, model.labels_)\n",
    "                     for model in kmeans_per_k[1:]]"
   ]
  },
  {
   "cell_type": "code",
   "execution_count": 49,
   "metadata": {},
   "outputs": [
    {
     "data": {
      "image/png": "[encoded data removed]",
      "text/plain": [
       "<Figure size 720x360 with 1 Axes>"
      ]
     },
     "metadata": {
      "needs_background": "light"
     },
     "output_type": "display_data"
    }
   ],
   "source": [
    "plt.figure(figsize=(10, 5))\n",
    "plt.plot(range(2, 10), silhouette_scores, \"bo-\")\n",
    "plt.xlabel(\"$k$\", fontsize=14)\n",
    "plt.ylabel(\"Silhouette score\", fontsize=14)\n",
    "plt.show()"
   ]
  },
  {
   "cell_type": "code",
   "execution_count": 50,
   "metadata": {},
   "outputs": [
    {
     "data": {
      "image/png": "[encoded data removed]",
      "text/plain": [
       "<Figure size 792x648 with 4 Axes>"
      ]
     },
     "metadata": {
      "needs_background": "light"
     },
     "output_type": "display_data"
    }
   ],
   "source": [
    "#Using silhouette\n",
    "plt.figure(figsize=(11, 9))\n",
    "\n",
    "for k in (2, 3, 4, 5):\n",
    "    plt.subplot(2, 2, k -1)\n",
    "    \n",
    "    y_pred = kmeans_per_k[k - 1].labels_\n",
    "    silhouette_coefficients = silhouette_samples(df_pca, y_pred)\n",
    "\n",
    "    padding = len(df_pca) // 30\n",
    "    pos = padding\n",
    "    ticks = []\n",
    "    for i in range(k):\n",
    "        coeffs = silhouette_coefficients[y_pred == i]\n",
    "        coeffs.sort()\n",
    "\n",
    "        color = mpl.cm.Spectral(i / k)\n",
    "        plt.fill_betweenx(np.arange(pos, pos + len(coeffs)), 0, coeffs,\n",
    "                          facecolor=color, edgecolor=color, alpha=0.7)\n",
    "        ticks.append(pos + len(coeffs) // 2)\n",
    "        pos += len(coeffs) + padding\n",
    "\n",
    "    plt.gca().yaxis.set_major_locator(FixedLocator(ticks))\n",
    "    plt.gca().yaxis.set_major_formatter(FixedFormatter(range(k)))\n",
    "    if k in (3, 5):\n",
    "        plt.ylabel(\"Cluster\")\n",
    "    \n",
    "    if k in (5, 6):\n",
    "        plt.gca().set_xticks([-0.1, 0, 0.2, 0.4, 0.6, 0.8, 1])\n",
    "        plt.xlabel(\"Silhouette Coefficient\")\n",
    "    else:\n",
    "        plt.tick_params(labelbottom=False)\n",
    "\n",
    "    plt.axvline(x=silhouette_scores[k - 2], color=\"red\", linestyle=\"--\")\n",
    "    plt.title(\"$k={}$\".format(k), fontsize=16)\n",
    "plt.show()"
   ]
  },
  {
   "cell_type": "markdown",
   "metadata": {},
   "source": [
    "From the conideration of the elbow graph and silhouette score, it seems that it would be best if I cluster the data into 5 categories."
   ]
  },
  {
   "cell_type": "code",
   "execution_count": 51,
   "metadata": {},
   "outputs": [
    {
     "name": "stdout",
     "output_type": "stream",
     "text": [
      "inertia :  2292.2507446439263\n"
     ]
    },
    {
     "data": {
      "text/plain": [
       "<matplotlib.collections.PathCollection at 0x180b1f56550>"
      ]
     },
     "execution_count": 51,
     "metadata": {},
     "output_type": "execute_result"
    },
    {
     "data": {
      "image/png": "[encoded data removed]",
      "text/plain": [
       "<Figure size 432x288 with 1 Axes>"
      ]
     },
     "metadata": {
      "needs_background": "light"
     },
     "output_type": "display_data"
    }
   ],
   "source": [
    "kmeans_lloyd = KMeans(n_clusters=5,algorithm='lloyd',random_state=101)\n",
    "\n",
    "kmeans_lloyd.fit(df_pca)\n",
    "\n",
    "print('inertia : ', kmeans_lloyd.inertia_)\n",
    "\n",
    "labels_kmc_lloyd = kmeans_lloyd.labels_\n",
    "labels_kmc_lloyd\n",
    "\n",
    "plt.scatter(df_pca2[:,0],df_pca2[:,1],c=labels_kmc_lloyd,cmap='viridis')"
   ]
  },
  {
   "cell_type": "markdown",
   "metadata": {},
   "source": [
    "**Spectral Clustering**"
   ]
  },
  {
   "cell_type": "code",
   "execution_count": 52,
   "metadata": {},
   "outputs": [
    {
     "data": {
      "text/html": [
       "<style>#sk-container-id-1 {color: black;background-color: white;}#sk-container-id-1 pre{padding: 0;}#sk-container-id-1 div.sk-toggleable {background-color: white;}#sk-container-id-1 label.sk-toggleable__label {cursor: pointer;display: block;width: 100%;margin-bottom: 0;padding: 0.3em;box-sizing: border-box;text-align: center;}#sk-container-id-1 label.sk-toggleable__label-arrow:before {content: \"▸\";float: left;margin-right: 0.25em;color: #696969;}#sk-container-id-1 label.sk-toggleable__label-arrow:hover:before {color: black;}#sk-container-id-1 div.sk-estimator:hover label.sk-toggleable__label-arrow:before {color: black;}#sk-container-id-1 div.sk-toggleable__content {max-height: 0;max-width: 0;overflow: hidden;text-align: left;background-color: #f0f8ff;}#sk-container-id-1 div.sk-toggleable__content pre {margin: 0.2em;color: black;border-radius: 0.25em;background-color: #f0f8ff;}#sk-container-id-1 input.sk-toggleable__control:checked~div.sk-toggleable__content {max-height: 200px;max-width: 100%;overflow: auto;}#sk-container-id-1 input.sk-toggleable__control:checked~label.sk-toggleable__label-arrow:before {content: \"▾\";}#sk-container-id-1 div.sk-estimator input.sk-toggleable__control:checked~label.sk-toggleable__label {background-color: #d4ebff;}#sk-container-id-1 div.sk-label input.sk-toggleable__control:checked~label.sk-toggleable__label {background-color: #d4ebff;}#sk-container-id-1 input.sk-hidden--visually {border: 0;clip: rect(1px 1px 1px 1px);clip: rect(1px, 1px, 1px, 1px);height: 1px;margin: -1px;overflow: hidden;padding: 0;position: absolute;width: 1px;}#sk-container-id-1 div.sk-estimator {font-family: monospace;background-color: #f0f8ff;border: 1px dotted black;border-radius: 0.25em;box-sizing: border-box;margin-bottom: 0.5em;}#sk-container-id-1 div.sk-estimator:hover {background-color: #d4ebff;}#sk-container-id-1 div.sk-parallel-item::after {content: \"\";width: 100%;border-bottom: 1px solid gray;flex-grow: 1;}#sk-container-id-1 div.sk-label:hover label.sk-toggleable__label {background-color: #d4ebff;}#sk-container-id-1 div.sk-serial::before {content: \"\";position: absolute;border-left: 1px solid gray;box-sizing: border-box;top: 0;bottom: 0;left: 50%;z-index: 0;}#sk-container-id-1 div.sk-serial {display: flex;flex-direction: column;align-items: center;background-color: white;padding-right: 0.2em;padding-left: 0.2em;position: relative;}#sk-container-id-1 div.sk-item {position: relative;z-index: 1;}#sk-container-id-1 div.sk-parallel {display: flex;align-items: stretch;justify-content: center;background-color: white;position: relative;}#sk-container-id-1 div.sk-item::before, #sk-container-id-1 div.sk-parallel-item::before {content: \"\";position: absolute;border-left: 1px solid gray;box-sizing: border-box;top: 0;bottom: 0;left: 50%;z-index: -1;}#sk-container-id-1 div.sk-parallel-item {display: flex;flex-direction: column;z-index: 1;position: relative;background-color: white;}#sk-container-id-1 div.sk-parallel-item:first-child::after {align-self: flex-end;width: 50%;}#sk-container-id-1 div.sk-parallel-item:last-child::after {align-self: flex-start;width: 50%;}#sk-container-id-1 div.sk-parallel-item:only-child::after {width: 0;}#sk-container-id-1 div.sk-dashed-wrapped {border: 1px dashed gray;margin: 0 0.4em 0.5em 0.4em;box-sizing: border-box;padding-bottom: 0.4em;background-color: white;}#sk-container-id-1 div.sk-label label {font-family: monospace;font-weight: bold;display: inline-block;line-height: 1.2em;}#sk-container-id-1 div.sk-label-container {text-align: center;}#sk-container-id-1 div.sk-container {/* jupyter's `normalize.less` sets `[hidden] { display: none; }` but bootstrap.min.css set `[hidden] { display: none !important; }` so we also need the `!important` here to be able to override the default hidden behavior on the sphinx rendered scikit-learn.org. See: https://github.com/scikit-learn/scikit-learn/issues/21755 */display: inline-block !important;position: relative;}#sk-container-id-1 div.sk-text-repr-fallback {display: none;}</style><div id=\"sk-container-id-1\" class=\"sk-top-container\"><div class=\"sk-text-repr-fallback\"><pre>SpectralClustering(affinity=&#x27;nearest_neighbors&#x27;, n_clusters=5, random_state=101)</pre><b>In a Jupyter environment, please rerun this cell to show the HTML representation or trust the notebook. <br />On GitHub, the HTML representation is unable to render, please try loading this page with nbviewer.org.</b></div><div class=\"sk-container\" hidden><div class=\"sk-item\"><div class=\"sk-estimator sk-toggleable\"><input class=\"sk-toggleable__control sk-hidden--visually\" id=\"sk-estimator-id-1\" type=\"checkbox\" checked><label for=\"sk-estimator-id-1\" class=\"sk-toggleable__label sk-toggleable__label-arrow\">SpectralClustering</label><div class=\"sk-toggleable__content\"><pre>SpectralClustering(affinity=&#x27;nearest_neighbors&#x27;, n_clusters=5, random_state=101)</pre></div></div></div></div></div>"
      ],
      "text/plain": [
       "SpectralClustering(affinity='nearest_neighbors', n_clusters=5, random_state=101)"
      ]
     },
     "execution_count": 52,
     "metadata": {},
     "output_type": "execute_result"
    }
   ],
   "source": [
    "#defining and fitting\n",
    "SP = SpectralClustering(n_clusters=5, affinity='nearest_neighbors', random_state=101)\n",
    "SP.fit(df_pca)"
   ]
  },
  {
   "cell_type": "code",
   "execution_count": 53,
   "metadata": {},
   "outputs": [
    {
     "data": {
      "text/html": [
       "<div>\n",
       "<style scoped>\n",
       "    .dataframe tbody tr th:only-of-type {\n",
       "        vertical-align: middle;\n",
       "    }\n",
       "\n",
       "    .dataframe tbody tr th {\n",
       "        vertical-align: top;\n",
       "    }\n",
       "\n",
       "    .dataframe thead th {\n",
       "        text-align: right;\n",
       "    }\n",
       "</style>\n",
       "<table border=\"1\" class=\"dataframe\">\n",
       "  <thead>\n",
       "    <tr style=\"text-align: right;\">\n",
       "      <th></th>\n",
       "      <th>0</th>\n",
       "      <th>1</th>\n",
       "      <th>2</th>\n",
       "      <th>3</th>\n",
       "      <th>4</th>\n",
       "      <th>5</th>\n",
       "      <th>6</th>\n",
       "      <th>7</th>\n",
       "      <th>8</th>\n",
       "      <th>9</th>\n",
       "      <th>10</th>\n",
       "      <th>11</th>\n",
       "      <th>12</th>\n",
       "      <th>13</th>\n",
       "      <th>14</th>\n",
       "    </tr>\n",
       "  </thead>\n",
       "  <tbody>\n",
       "    <tr>\n",
       "      <th>0</th>\n",
       "      <td>-0.495342</td>\n",
       "      <td>-0.312673</td>\n",
       "      <td>-0.157781</td>\n",
       "      <td>-0.108000</td>\n",
       "      <td>0.138818</td>\n",
       "      <td>0.419268</td>\n",
       "      <td>1.262288</td>\n",
       "      <td>-0.739767</td>\n",
       "      <td>0.229649</td>\n",
       "      <td>-0.197746</td>\n",
       "      <td>0.108036</td>\n",
       "      <td>-0.064871</td>\n",
       "      <td>0.004935</td>\n",
       "      <td>0.013881</td>\n",
       "      <td>0.100866</td>\n",
       "    </tr>\n",
       "    <tr>\n",
       "      <th>1</th>\n",
       "      <td>0.713541</td>\n",
       "      <td>0.058263</td>\n",
       "      <td>0.225230</td>\n",
       "      <td>-1.026831</td>\n",
       "      <td>0.824399</td>\n",
       "      <td>-0.305292</td>\n",
       "      <td>-0.283634</td>\n",
       "      <td>-0.467664</td>\n",
       "      <td>0.169825</td>\n",
       "      <td>-0.085279</td>\n",
       "      <td>-0.048349</td>\n",
       "      <td>-0.191360</td>\n",
       "      <td>0.029873</td>\n",
       "      <td>-0.145316</td>\n",
       "      <td>-0.075964</td>\n",
       "    </tr>\n",
       "    <tr>\n",
       "      <th>2</th>\n",
       "      <td>-0.054201</td>\n",
       "      <td>-1.025353</td>\n",
       "      <td>-0.308740</td>\n",
       "      <td>-0.060910</td>\n",
       "      <td>-0.609842</td>\n",
       "      <td>0.025005</td>\n",
       "      <td>-0.471810</td>\n",
       "      <td>0.370639</td>\n",
       "      <td>0.276146</td>\n",
       "      <td>0.257792</td>\n",
       "      <td>0.224291</td>\n",
       "      <td>-0.061611</td>\n",
       "      <td>-0.029763</td>\n",
       "      <td>0.960579</td>\n",
       "      <td>0.024565</td>\n",
       "    </tr>\n",
       "    <tr>\n",
       "      <th>3</th>\n",
       "      <td>0.111709</td>\n",
       "      <td>0.774145</td>\n",
       "      <td>-0.958406</td>\n",
       "      <td>0.157526</td>\n",
       "      <td>-0.347859</td>\n",
       "      <td>0.679858</td>\n",
       "      <td>0.341104</td>\n",
       "      <td>0.455004</td>\n",
       "      <td>0.569588</td>\n",
       "      <td>0.592064</td>\n",
       "      <td>-0.476212</td>\n",
       "      <td>-0.201115</td>\n",
       "      <td>-0.066227</td>\n",
       "      <td>-0.321456</td>\n",
       "      <td>0.001141</td>\n",
       "    </tr>\n",
       "    <tr>\n",
       "      <th>4</th>\n",
       "      <td>-0.069965</td>\n",
       "      <td>0.803743</td>\n",
       "      <td>-0.922484</td>\n",
       "      <td>0.803453</td>\n",
       "      <td>-0.444052</td>\n",
       "      <td>0.067777</td>\n",
       "      <td>-0.090811</td>\n",
       "      <td>-0.479324</td>\n",
       "      <td>0.404252</td>\n",
       "      <td>0.542673</td>\n",
       "      <td>-0.242692</td>\n",
       "      <td>-0.111843</td>\n",
       "      <td>0.039025</td>\n",
       "      <td>-0.189074</td>\n",
       "      <td>0.050550</td>\n",
       "    </tr>\n",
       "    <tr>\n",
       "      <th>...</th>\n",
       "      <td>...</td>\n",
       "      <td>...</td>\n",
       "      <td>...</td>\n",
       "      <td>...</td>\n",
       "      <td>...</td>\n",
       "      <td>...</td>\n",
       "      <td>...</td>\n",
       "      <td>...</td>\n",
       "      <td>...</td>\n",
       "      <td>...</td>\n",
       "      <td>...</td>\n",
       "      <td>...</td>\n",
       "      <td>...</td>\n",
       "      <td>...</td>\n",
       "      <td>...</td>\n",
       "    </tr>\n",
       "    <tr>\n",
       "      <th>995</th>\n",
       "      <td>1.087808</td>\n",
       "      <td>-0.692358</td>\n",
       "      <td>0.397434</td>\n",
       "      <td>-0.460741</td>\n",
       "      <td>-0.675658</td>\n",
       "      <td>-0.301205</td>\n",
       "      <td>-0.160251</td>\n",
       "      <td>0.840604</td>\n",
       "      <td>0.258290</td>\n",
       "      <td>0.022457</td>\n",
       "      <td>-0.291354</td>\n",
       "      <td>-0.140234</td>\n",
       "      <td>-0.142674</td>\n",
       "      <td>-0.135784</td>\n",
       "      <td>-0.047445</td>\n",
       "    </tr>\n",
       "    <tr>\n",
       "      <th>996</th>\n",
       "      <td>-0.663868</td>\n",
       "      <td>1.105642</td>\n",
       "      <td>-0.688746</td>\n",
       "      <td>-0.043740</td>\n",
       "      <td>-0.381346</td>\n",
       "      <td>-0.660953</td>\n",
       "      <td>0.318720</td>\n",
       "      <td>-0.367391</td>\n",
       "      <td>-0.248525</td>\n",
       "      <td>-0.165147</td>\n",
       "      <td>0.083599</td>\n",
       "      <td>-0.026912</td>\n",
       "      <td>0.054937</td>\n",
       "      <td>0.053073</td>\n",
       "      <td>-0.009343</td>\n",
       "    </tr>\n",
       "    <tr>\n",
       "      <th>997</th>\n",
       "      <td>-0.561304</td>\n",
       "      <td>-0.461018</td>\n",
       "      <td>-0.012265</td>\n",
       "      <td>-0.803225</td>\n",
       "      <td>-0.448228</td>\n",
       "      <td>0.296298</td>\n",
       "      <td>-0.414648</td>\n",
       "      <td>-0.291804</td>\n",
       "      <td>-0.022906</td>\n",
       "      <td>-0.116507</td>\n",
       "      <td>-0.064725</td>\n",
       "      <td>-0.095059</td>\n",
       "      <td>-0.059492</td>\n",
       "      <td>0.015910</td>\n",
       "      <td>0.049280</td>\n",
       "    </tr>\n",
       "    <tr>\n",
       "      <th>998</th>\n",
       "      <td>-0.010352</td>\n",
       "      <td>0.468998</td>\n",
       "      <td>-0.834988</td>\n",
       "      <td>-0.173577</td>\n",
       "      <td>-0.165590</td>\n",
       "      <td>0.945092</td>\n",
       "      <td>0.101557</td>\n",
       "      <td>-0.777223</td>\n",
       "      <td>0.384053</td>\n",
       "      <td>0.584857</td>\n",
       "      <td>-0.235812</td>\n",
       "      <td>-0.217414</td>\n",
       "      <td>-0.020898</td>\n",
       "      <td>-0.268725</td>\n",
       "      <td>0.022849</td>\n",
       "    </tr>\n",
       "    <tr>\n",
       "      <th>999</th>\n",
       "      <td>-0.561942</td>\n",
       "      <td>-0.063279</td>\n",
       "      <td>-0.083903</td>\n",
       "      <td>0.632835</td>\n",
       "      <td>0.984497</td>\n",
       "      <td>-0.655690</td>\n",
       "      <td>-0.058278</td>\n",
       "      <td>0.014049</td>\n",
       "      <td>-0.696595</td>\n",
       "      <td>0.174489</td>\n",
       "      <td>-0.298198</td>\n",
       "      <td>-0.191974</td>\n",
       "      <td>-0.359922</td>\n",
       "      <td>0.023659</td>\n",
       "      <td>-0.128650</td>\n",
       "    </tr>\n",
       "  </tbody>\n",
       "</table>\n",
       "<p>1000 rows × 15 columns</p>\n",
       "</div>"
      ],
      "text/plain": [
       "           0         1         2         3         4         5         6   \\\n",
       "0   -0.495342 -0.312673 -0.157781 -0.108000  0.138818  0.419268  1.262288   \n",
       "1    0.713541  0.058263  0.225230 -1.026831  0.824399 -0.305292 -0.283634   \n",
       "2   -0.054201 -1.025353 -0.308740 -0.060910 -0.609842  0.025005 -0.471810   \n",
       "3    0.111709  0.774145 -0.958406  0.157526 -0.347859  0.679858  0.341104   \n",
       "4   -0.069965  0.803743 -0.922484  0.803453 -0.444052  0.067777 -0.090811   \n",
       "..        ...       ...       ...       ...       ...       ...       ...   \n",
       "995  1.087808 -0.692358  0.397434 -0.460741 -0.675658 -0.301205 -0.160251   \n",
       "996 -0.663868  1.105642 -0.688746 -0.043740 -0.381346 -0.660953  0.318720   \n",
       "997 -0.561304 -0.461018 -0.012265 -0.803225 -0.448228  0.296298 -0.414648   \n",
       "998 -0.010352  0.468998 -0.834988 -0.173577 -0.165590  0.945092  0.101557   \n",
       "999 -0.561942 -0.063279 -0.083903  0.632835  0.984497 -0.655690 -0.058278   \n",
       "\n",
       "           7         8         9         10        11        12        13  \\\n",
       "0   -0.739767  0.229649 -0.197746  0.108036 -0.064871  0.004935  0.013881   \n",
       "1   -0.467664  0.169825 -0.085279 -0.048349 -0.191360  0.029873 -0.145316   \n",
       "2    0.370639  0.276146  0.257792  0.224291 -0.061611 -0.029763  0.960579   \n",
       "3    0.455004  0.569588  0.592064 -0.476212 -0.201115 -0.066227 -0.321456   \n",
       "4   -0.479324  0.404252  0.542673 -0.242692 -0.111843  0.039025 -0.189074   \n",
       "..        ...       ...       ...       ...       ...       ...       ...   \n",
       "995  0.840604  0.258290  0.022457 -0.291354 -0.140234 -0.142674 -0.135784   \n",
       "996 -0.367391 -0.248525 -0.165147  0.083599 -0.026912  0.054937  0.053073   \n",
       "997 -0.291804 -0.022906 -0.116507 -0.064725 -0.095059 -0.059492  0.015910   \n",
       "998 -0.777223  0.384053  0.584857 -0.235812 -0.217414 -0.020898 -0.268725   \n",
       "999  0.014049 -0.696595  0.174489 -0.298198 -0.191974 -0.359922  0.023659   \n",
       "\n",
       "           14  \n",
       "0    0.100866  \n",
       "1   -0.075964  \n",
       "2    0.024565  \n",
       "3    0.001141  \n",
       "4    0.050550  \n",
       "..        ...  \n",
       "995 -0.047445  \n",
       "996 -0.009343  \n",
       "997  0.049280  \n",
       "998  0.022849  \n",
       "999 -0.128650  \n",
       "\n",
       "[1000 rows x 15 columns]"
      ]
     },
     "execution_count": 53,
     "metadata": {},
     "output_type": "execute_result"
    }
   ],
   "source": [
    "PCA_df = pd.DataFrame(pca.transform(df2_fin))\n",
    "PCA_df"
   ]
  },
  {
   "cell_type": "code",
   "execution_count": 54,
   "metadata": {},
   "outputs": [
    {
     "data": {
      "text/plain": [
       "array([1, 1, 1, 3, 1, 1, 1, 1, 1, 1, 1, 1, 1, 3, 1, 1, 1, 1, 1, 1, 2, 1,\n",
       "       1, 1, 1, 3, 0, 1, 4, 3, 1, 3, 1, 1, 1, 1, 1, 1, 3, 4, 1, 1, 1, 1,\n",
       "       1, 1, 1, 1, 1, 1, 1, 1, 0, 1, 1, 1, 1, 1, 1, 1, 1, 1, 1, 1, 1, 1,\n",
       "       1, 1, 1, 1, 1, 1, 3, 1, 3, 3, 3, 4, 1, 1, 1, 1, 1, 1, 3, 1, 1, 1,\n",
       "       3, 3, 0, 3, 1, 1, 1, 1, 1, 1, 4, 1, 1, 1, 1, 1, 1, 1, 0, 1, 1, 1,\n",
       "       1, 1, 1, 1, 1, 1, 1, 1, 1, 1, 1, 1, 1, 1, 1, 3, 3, 1, 1, 1, 1, 3,\n",
       "       1, 1, 1, 1, 1, 1, 1, 1, 1, 1, 3, 3, 1, 1, 1, 1, 3, 0, 1, 0, 1, 1,\n",
       "       1, 1, 3, 3, 1, 1, 1, 1, 1, 1, 1, 1, 1, 1, 1, 1, 1, 1, 1, 4, 3, 1,\n",
       "       3, 1, 1, 3, 1, 1, 3, 1, 1, 0, 1, 1, 3, 1, 1, 1, 1, 0, 1, 1, 1, 1,\n",
       "       1, 1, 1, 3, 1, 1, 1, 3, 1, 1, 3, 1, 1, 1, 3, 1, 1, 1, 3, 1, 1, 1,\n",
       "       1, 1, 0, 1, 2, 1, 1, 3, 0, 3, 1, 1, 1, 1, 0, 3, 1, 1, 1, 3, 1, 0,\n",
       "       1, 1, 1, 1, 0, 1, 3, 1, 1, 1, 1, 1, 1, 1, 0, 3, 1, 1, 3, 1, 3, 1,\n",
       "       1, 4, 1, 1, 3, 1, 1, 1, 1, 4, 3, 0, 1, 3, 1, 1, 1, 1, 1, 1, 1, 1,\n",
       "       3, 1, 1, 3, 1, 1, 1, 1, 1, 1, 1, 1, 1, 1, 1, 1, 1, 3, 1, 1, 1, 3,\n",
       "       1, 1, 1, 1, 1, 1, 1, 3, 3, 1, 1, 1, 1, 3, 3, 3, 1, 3, 1, 1, 1, 4,\n",
       "       3, 1, 1, 1, 1, 3, 1, 1, 3, 1, 1, 1, 1, 1, 3, 1, 4, 1, 1, 1, 1, 1,\n",
       "       1, 1, 1, 1, 1, 0, 0, 1, 1, 1, 1, 1, 3, 1, 2, 1, 3, 1, 1, 0, 1, 1,\n",
       "       1, 1, 0, 1, 1, 1, 3, 1, 1, 3, 1, 1, 1, 1, 1, 1, 0, 1, 3, 1, 1, 1,\n",
       "       1, 3, 1, 1, 0, 1, 1, 1, 1, 4, 1, 3, 1, 1, 1, 0, 1, 1, 1, 2, 3, 1,\n",
       "       1, 1, 1, 1, 1, 1, 1, 1, 0, 0, 1, 1, 1, 1, 3, 1, 3, 1, 1, 1, 3, 1,\n",
       "       0, 1, 1, 1, 1, 1, 1, 4, 1, 1, 1, 1, 1, 0, 3, 1, 1, 1, 1, 0, 3, 3,\n",
       "       1, 1, 1, 3, 1, 1, 1, 1, 1, 1, 3, 1, 4, 1, 1, 1, 1, 3, 1, 1, 1, 1,\n",
       "       1, 1, 0, 1, 1, 1, 0, 1, 1, 1, 1, 3, 1, 1, 1, 1, 1, 1, 1, 1, 1, 1,\n",
       "       1, 1, 0, 1, 3, 1, 1, 1, 1, 1, 3, 1, 3, 1, 1, 1, 3, 1, 1, 1, 1, 0,\n",
       "       3, 3, 1, 1, 2, 1, 1, 1, 1, 1, 3, 1, 1, 1, 3, 1, 1, 1, 1, 0, 1, 1,\n",
       "       1, 1, 3, 1, 1, 4, 1, 1, 3, 1, 1, 1, 1, 1, 1, 1, 3, 1, 1, 1, 1, 0,\n",
       "       1, 1, 1, 1, 1, 1, 1, 1, 1, 1, 1, 1, 1, 1, 1, 3, 3, 3, 1, 1, 1, 1,\n",
       "       3, 1, 1, 1, 2, 1, 1, 1, 1, 1, 1, 3, 1, 1, 0, 1, 1, 1, 1, 1, 1, 1,\n",
       "       1, 1, 1, 1, 1, 2, 1, 1, 3, 1, 3, 1, 1, 1, 1, 3, 1, 1, 1, 1, 1, 0,\n",
       "       1, 3, 1, 1, 1, 0, 3, 1, 3, 1, 1, 3, 3, 1, 3, 1, 2, 1, 1, 1, 1, 1,\n",
       "       1, 3, 1, 1, 1, 0, 1, 1, 1, 1, 1, 1, 0, 1, 1, 1, 1, 1, 3, 1, 1, 1,\n",
       "       0, 1, 1, 1, 1, 1, 1, 3, 3, 1, 1, 3, 0, 1, 4, 1, 0, 1, 1, 1, 1, 1,\n",
       "       1, 1, 1, 1, 1, 1, 1, 1, 1, 3, 1, 1, 1, 0, 1, 1, 1, 1, 1, 1, 1, 1,\n",
       "       1, 1, 1, 1, 4, 1, 1, 1, 1, 1, 1, 3, 0, 1, 3, 1, 1, 3, 3, 3, 1, 1,\n",
       "       1, 2, 1, 1, 1, 1, 1, 1, 1, 1, 2, 3, 1, 1, 3, 1, 1, 1, 3, 1, 1, 0,\n",
       "       1, 1, 0, 1, 1, 1, 2, 1, 1, 1, 4, 1, 1, 1, 1, 1, 1, 1, 1, 3, 1, 1,\n",
       "       1, 1, 1, 1, 1, 1, 1, 1, 1, 1, 1, 1, 1, 3, 1, 1, 1, 1, 1, 1, 3, 3,\n",
       "       1, 1, 1, 1, 3, 3, 2, 1, 3, 3, 1, 3, 1, 1, 1, 1, 1, 1, 1, 1, 1, 3,\n",
       "       1, 1, 3, 0, 3, 1, 1, 1, 1, 1, 1, 2, 3, 3, 1, 1, 0, 1, 2, 1, 1, 1,\n",
       "       1, 1, 1, 1, 1, 1, 1, 1, 1, 1, 1, 1, 1, 3, 3, 1, 3, 1, 3, 0, 3, 1,\n",
       "       0, 1, 1, 1, 1, 1, 1, 1, 0, 1, 3, 0, 3, 1, 1, 1, 1, 1, 1, 3, 1, 1,\n",
       "       1, 1, 0, 1, 3, 1, 1, 1, 1, 1, 1, 1, 1, 1, 1, 3, 3, 3, 1, 1, 1, 1,\n",
       "       3, 3, 1, 1, 1, 3, 3, 1, 2, 1, 1, 1, 1, 1, 1, 1, 1, 1, 1, 1, 1, 1,\n",
       "       3, 1, 1, 1, 1, 3, 1, 1, 1, 1, 1, 1, 3, 1, 0, 1, 1, 1, 1, 1, 1, 1,\n",
       "       1, 3, 1, 1, 1, 1, 1, 1, 1, 1, 1, 1, 1, 1, 1, 3, 1, 1, 1, 1, 3, 1,\n",
       "       1, 1, 1, 3, 1, 1, 3, 0, 3, 1])"
      ]
     },
     "execution_count": 54,
     "metadata": {},
     "output_type": "execute_result"
    }
   ],
   "source": [
    "SP.labels_"
   ]
  },
  {
   "cell_type": "code",
   "execution_count": 55,
   "metadata": {},
   "outputs": [
    {
     "data": {
      "image/png": "[encoded data removed]",
      "text/plain": [
       "<Figure size 576x432 with 1 Axes>"
      ]
     },
     "metadata": {
      "needs_background": "light"
     },
     "output_type": "display_data"
    }
   ],
   "source": [
    "#visualizing spectral clustering\n",
    "plt.figure(figsize=(8, 6))\n",
    "ax = sns.scatterplot(x=df_pca2[:,0], y=df_pca2[:,1], hue=SP.labels_, palette='jet_r')\n",
    "ax.set_title('Clustering with Spectral Clustering');"
   ]
  },
  {
   "cell_type": "markdown",
   "metadata": {},
   "source": [
    "**Gaussian Mixture**"
   ]
  },
  {
   "cell_type": "code",
   "execution_count": 56,
   "metadata": {},
   "outputs": [
    {
     "data": {
      "text/html": [
       "<style>#sk-container-id-2 {color: black;background-color: white;}#sk-container-id-2 pre{padding: 0;}#sk-container-id-2 div.sk-toggleable {background-color: white;}#sk-container-id-2 label.sk-toggleable__label {cursor: pointer;display: block;width: 100%;margin-bottom: 0;padding: 0.3em;box-sizing: border-box;text-align: center;}#sk-container-id-2 label.sk-toggleable__label-arrow:before {content: \"▸\";float: left;margin-right: 0.25em;color: #696969;}#sk-container-id-2 label.sk-toggleable__label-arrow:hover:before {color: black;}#sk-container-id-2 div.sk-estimator:hover label.sk-toggleable__label-arrow:before {color: black;}#sk-container-id-2 div.sk-toggleable__content {max-height: 0;max-width: 0;overflow: hidden;text-align: left;background-color: #f0f8ff;}#sk-container-id-2 div.sk-toggleable__content pre {margin: 0.2em;color: black;border-radius: 0.25em;background-color: #f0f8ff;}#sk-container-id-2 input.sk-toggleable__control:checked~div.sk-toggleable__content {max-height: 200px;max-width: 100%;overflow: auto;}#sk-container-id-2 input.sk-toggleable__control:checked~label.sk-toggleable__label-arrow:before {content: \"▾\";}#sk-container-id-2 div.sk-estimator input.sk-toggleable__control:checked~label.sk-toggleable__label {background-color: #d4ebff;}#sk-container-id-2 div.sk-label input.sk-toggleable__control:checked~label.sk-toggleable__label {background-color: #d4ebff;}#sk-container-id-2 input.sk-hidden--visually {border: 0;clip: rect(1px 1px 1px 1px);clip: rect(1px, 1px, 1px, 1px);height: 1px;margin: -1px;overflow: hidden;padding: 0;position: absolute;width: 1px;}#sk-container-id-2 div.sk-estimator {font-family: monospace;background-color: #f0f8ff;border: 1px dotted black;border-radius: 0.25em;box-sizing: border-box;margin-bottom: 0.5em;}#sk-container-id-2 div.sk-estimator:hover {background-color: #d4ebff;}#sk-container-id-2 div.sk-parallel-item::after {content: \"\";width: 100%;border-bottom: 1px solid gray;flex-grow: 1;}#sk-container-id-2 div.sk-label:hover label.sk-toggleable__label {background-color: #d4ebff;}#sk-container-id-2 div.sk-serial::before {content: \"\";position: absolute;border-left: 1px solid gray;box-sizing: border-box;top: 0;bottom: 0;left: 50%;z-index: 0;}#sk-container-id-2 div.sk-serial {display: flex;flex-direction: column;align-items: center;background-color: white;padding-right: 0.2em;padding-left: 0.2em;position: relative;}#sk-container-id-2 div.sk-item {position: relative;z-index: 1;}#sk-container-id-2 div.sk-parallel {display: flex;align-items: stretch;justify-content: center;background-color: white;position: relative;}#sk-container-id-2 div.sk-item::before, #sk-container-id-2 div.sk-parallel-item::before {content: \"\";position: absolute;border-left: 1px solid gray;box-sizing: border-box;top: 0;bottom: 0;left: 50%;z-index: -1;}#sk-container-id-2 div.sk-parallel-item {display: flex;flex-direction: column;z-index: 1;position: relative;background-color: white;}#sk-container-id-2 div.sk-parallel-item:first-child::after {align-self: flex-end;width: 50%;}#sk-container-id-2 div.sk-parallel-item:last-child::after {align-self: flex-start;width: 50%;}#sk-container-id-2 div.sk-parallel-item:only-child::after {width: 0;}#sk-container-id-2 div.sk-dashed-wrapped {border: 1px dashed gray;margin: 0 0.4em 0.5em 0.4em;box-sizing: border-box;padding-bottom: 0.4em;background-color: white;}#sk-container-id-2 div.sk-label label {font-family: monospace;font-weight: bold;display: inline-block;line-height: 1.2em;}#sk-container-id-2 div.sk-label-container {text-align: center;}#sk-container-id-2 div.sk-container {/* jupyter's `normalize.less` sets `[hidden] { display: none; }` but bootstrap.min.css set `[hidden] { display: none !important; }` so we also need the `!important` here to be able to override the default hidden behavior on the sphinx rendered scikit-learn.org. See: https://github.com/scikit-learn/scikit-learn/issues/21755 */display: inline-block !important;position: relative;}#sk-container-id-2 div.sk-text-repr-fallback {display: none;}</style><div id=\"sk-container-id-2\" class=\"sk-top-container\"><div class=\"sk-text-repr-fallback\"><pre>GaussianMixture(n_components=5, random_state=101)</pre><b>In a Jupyter environment, please rerun this cell to show the HTML representation or trust the notebook. <br />On GitHub, the HTML representation is unable to render, please try loading this page with nbviewer.org.</b></div><div class=\"sk-container\" hidden><div class=\"sk-item\"><div class=\"sk-estimator sk-toggleable\"><input class=\"sk-toggleable__control sk-hidden--visually\" id=\"sk-estimator-id-2\" type=\"checkbox\" checked><label for=\"sk-estimator-id-2\" class=\"sk-toggleable__label sk-toggleable__label-arrow\">GaussianMixture</label><div class=\"sk-toggleable__content\"><pre>GaussianMixture(n_components=5, random_state=101)</pre></div></div></div></div></div>"
      ],
      "text/plain": [
       "GaussianMixture(n_components=5, random_state=101)"
      ]
     },
     "execution_count": 56,
     "metadata": {},
     "output_type": "execute_result"
    }
   ],
   "source": [
    "#defining and fitting\n",
    "gmm = GaussianMixture(n_components=5, random_state=101)\n",
    "gmm.fit(df_pca)"
   ]
  },
  {
   "cell_type": "code",
   "execution_count": 57,
   "metadata": {},
   "outputs": [
    {
     "data": {
      "text/plain": [
       "array([1, 2, 4, 1, 1, 4, 4, 3, 4, 3, 2, 2, 2, 1, 2, 2, 4, 1, 2, 4, 4, 1,\n",
       "       1, 3, 4, 1, 4, 2, 3, 1, 3, 1, 3, 4, 2, 3, 4, 3, 1, 3, 4, 3, 3, 1,\n",
       "       2, 2, 4, 0, 4, 2, 3, 3, 4, 4, 3, 4, 3, 2, 2, 2, 3, 3, 3, 3, 2, 4,\n",
       "       2, 3, 4, 2, 2, 4, 1, 2, 1, 1, 1, 3, 4, 3, 2, 4, 0, 2, 1, 2, 2, 3,\n",
       "       1, 1, 4, 1, 2, 3, 3, 3, 2, 3, 3, 3, 4, 3, 2, 3, 4, 3, 4, 3, 2, 3,\n",
       "       3, 2, 3, 2, 1, 4, 2, 2, 2, 3, 2, 2, 4, 1, 2, 1, 1, 3, 3, 2, 2, 1,\n",
       "       4, 4, 2, 2, 4, 3, 3, 2, 3, 2, 1, 1, 2, 3, 2, 2, 1, 4, 4, 4, 3, 2,\n",
       "       3, 2, 1, 1, 3, 4, 4, 2, 4, 3, 4, 4, 2, 2, 2, 3, 1, 2, 2, 3, 1, 2,\n",
       "       1, 1, 4, 1, 4, 3, 1, 4, 3, 4, 2, 3, 1, 2, 4, 3, 3, 4, 3, 2, 2, 2,\n",
       "       3, 3, 4, 1, 4, 1, 4, 1, 4, 3, 1, 4, 4, 2, 1, 3, 4, 2, 1, 3, 1, 2,\n",
       "       3, 2, 4, 4, 4, 4, 3, 1, 4, 1, 3, 4, 4, 3, 4, 1, 3, 3, 2, 1, 2, 4,\n",
       "       1, 2, 0, 4, 4, 4, 1, 2, 2, 2, 2, 4, 3, 3, 4, 1, 2, 2, 1, 2, 1, 0,\n",
       "       4, 3, 4, 2, 1, 4, 4, 2, 3, 3, 1, 4, 2, 1, 2, 4, 4, 4, 3, 4, 3, 2,\n",
       "       1, 3, 2, 1, 4, 3, 2, 1, 4, 2, 2, 4, 4, 3, 2, 2, 3, 1, 4, 4, 2, 1,\n",
       "       2, 3, 0, 4, 2, 3, 3, 1, 1, 2, 4, 2, 3, 1, 1, 0, 2, 1, 4, 2, 3, 3,\n",
       "       1, 2, 2, 2, 1, 1, 2, 2, 1, 3, 2, 2, 3, 3, 3, 2, 3, 0, 4, 3, 2, 2,\n",
       "       4, 1, 4, 3, 4, 4, 4, 2, 3, 3, 2, 4, 1, 4, 4, 2, 1, 2, 4, 4, 2, 4,\n",
       "       2, 2, 4, 4, 3, 2, 1, 2, 2, 3, 4, 2, 2, 3, 3, 2, 4, 2, 1, 2, 4, 3,\n",
       "       2, 1, 3, 2, 4, 3, 4, 4, 3, 3, 4, 1, 4, 3, 2, 4, 4, 4, 2, 4, 1, 2,\n",
       "       2, 2, 2, 3, 3, 4, 2, 3, 4, 4, 4, 0, 4, 3, 1, 4, 1, 3, 4, 2, 1, 0,\n",
       "       4, 2, 3, 4, 2, 2, 2, 3, 2, 3, 4, 2, 4, 4, 1, 2, 1, 1, 2, 4, 1, 1,\n",
       "       2, 3, 4, 1, 2, 4, 2, 4, 3, 2, 1, 4, 3, 2, 4, 3, 3, 1, 2, 3, 2, 2,\n",
       "       4, 3, 4, 2, 4, 4, 4, 2, 2, 3, 1, 1, 3, 4, 3, 3, 2, 1, 3, 3, 2, 4,\n",
       "       3, 3, 4, 4, 1, 4, 3, 3, 4, 2, 1, 2, 1, 4, 4, 2, 1, 2, 2, 3, 2, 4,\n",
       "       1, 1, 3, 2, 4, 4, 4, 1, 2, 2, 1, 2, 3, 4, 1, 1, 4, 1, 2, 4, 2, 4,\n",
       "       2, 4, 1, 3, 2, 3, 2, 2, 1, 3, 1, 1, 2, 3, 3, 2, 1, 4, 3, 2, 2, 4,\n",
       "       2, 2, 3, 2, 2, 2, 3, 4, 3, 3, 2, 3, 2, 2, 1, 1, 1, 1, 2, 2, 0, 2,\n",
       "       1, 2, 2, 3, 4, 4, 2, 2, 2, 2, 2, 1, 4, 2, 4, 4, 2, 0, 2, 2, 2, 3,\n",
       "       3, 1, 2, 4, 3, 4, 4, 2, 1, 4, 1, 3, 4, 4, 2, 1, 3, 2, 2, 4, 2, 4,\n",
       "       2, 1, 2, 3, 4, 4, 1, 4, 1, 2, 1, 1, 1, 3, 1, 3, 4, 1, 3, 4, 2, 3,\n",
       "       3, 1, 4, 3, 2, 4, 3, 2, 1, 3, 4, 4, 4, 4, 4, 2, 4, 3, 1, 2, 2, 4,\n",
       "       4, 4, 3, 4, 3, 3, 4, 0, 1, 2, 3, 1, 4, 4, 3, 2, 4, 1, 2, 1, 0, 3,\n",
       "       2, 2, 3, 2, 2, 3, 4, 2, 4, 1, 3, 4, 4, 4, 3, 3, 3, 2, 2, 0, 2, 2,\n",
       "       4, 2, 2, 3, 3, 1, 2, 2, 2, 2, 2, 1, 4, 2, 1, 3, 4, 1, 1, 1, 2, 2,\n",
       "       4, 4, 2, 2, 2, 2, 4, 2, 1, 3, 4, 1, 2, 2, 1, 4, 4, 3, 1, 2, 3, 4,\n",
       "       2, 2, 4, 4, 0, 2, 4, 2, 4, 2, 3, 4, 3, 2, 3, 3, 4, 4, 3, 1, 2, 4,\n",
       "       4, 1, 4, 2, 1, 2, 4, 3, 4, 2, 2, 4, 2, 1, 3, 4, 3, 2, 3, 3, 1, 1,\n",
       "       1, 2, 4, 2, 1, 1, 4, 3, 1, 1, 4, 1, 2, 4, 1, 3, 4, 2, 1, 2, 2, 1,\n",
       "       2, 2, 1, 4, 1, 4, 2, 4, 4, 3, 4, 4, 1, 1, 1, 4, 4, 1, 4, 4, 2, 4,\n",
       "       2, 4, 4, 4, 2, 4, 4, 2, 2, 4, 4, 2, 2, 3, 1, 2, 1, 2, 1, 4, 1, 4,\n",
       "       4, 4, 3, 2, 3, 2, 3, 3, 4, 4, 1, 4, 1, 3, 4, 4, 2, 2, 2, 1, 1, 4,\n",
       "       4, 4, 4, 1, 1, 3, 2, 2, 2, 2, 2, 4, 1, 2, 4, 1, 1, 1, 2, 4, 2, 3,\n",
       "       1, 1, 2, 1, 4, 1, 1, 2, 4, 4, 2, 3, 2, 3, 3, 4, 4, 4, 4, 4, 2, 2,\n",
       "       1, 4, 4, 4, 3, 1, 2, 2, 2, 2, 3, 3, 1, 3, 4, 3, 4, 4, 3, 2, 3, 2,\n",
       "       4, 1, 3, 4, 2, 1, 2, 0, 2, 3, 4, 3, 3, 4, 2, 1, 4, 2, 3, 2, 1, 3,\n",
       "       4, 4, 1, 1, 4, 2, 1, 4, 1, 3], dtype=int64)"
      ]
     },
     "execution_count": 57,
     "metadata": {},
     "output_type": "execute_result"
    }
   ],
   "source": [
    "labels_gmm = gmm.predict(df_pca)\n",
    "labels_gmm"
   ]
  },
  {
   "cell_type": "code",
   "execution_count": 58,
   "metadata": {},
   "outputs": [
    {
     "data": {
      "text/plain": [
       "Text(0.5, 1.0, 'Clustering with Gaussian Mixture')"
      ]
     },
     "execution_count": 58,
     "metadata": {},
     "output_type": "execute_result"
    },
    {
     "data": {
      "image/png": "[encoded data removed]",
      "text/plain": [
       "<Figure size 576x432 with 1 Axes>"
      ]
     },
     "metadata": {
      "needs_background": "light"
     },
     "output_type": "display_data"
    }
   ],
   "source": [
    "#visualizing gaussian mixture clustering\n",
    "plt.figure(figsize=(8, 6))\n",
    "ax = sns.scatterplot(x=df_pca2[:,0], y=df_pca2[:,1], hue=labels_gmm, palette='jet_r')\n",
    "ax.set_title('Clustering with Gaussian Mixture')"
   ]
  },
  {
   "cell_type": "markdown",
   "metadata": {},
   "source": [
    "**Agglomarative Clustering**"
   ]
  },
  {
   "cell_type": "code",
   "execution_count": 59,
   "metadata": {},
   "outputs": [
    {
     "data": {
      "text/plain": [
       "array([8, 1, 0, 5, 5, 8, 3, 5, 3, 2, 4, 4, 1, 7, 4, 1, 8, 8, 5, 3, 0, 7,\n",
       "       7, 2, 8, 7, 3, 4, 2, 7, 2, 7, 2, 8, 1, 2, 5, 3, 3, 2, 3, 2, 2, 7,\n",
       "       1, 6, 3, 4, 0, 6, 2, 2, 3, 8, 5, 0, 8, 6, 1, 4, 2, 8, 5, 2, 6, 8,\n",
       "       6, 2, 5, 6, 6, 8, 5, 1, 8, 5, 7, 2, 0, 2, 6, 3, 4, 1, 7, 6, 1, 5,\n",
       "       7, 7, 3, 7, 6, 8, 2, 2, 6, 2, 2, 8, 0, 2, 6, 2, 8, 2, 3, 2, 1, 2,\n",
       "       2, 4, 2, 6, 7, 8, 1, 4, 1, 2, 1, 4, 0, 5, 4, 7, 7, 2, 2, 1, 1, 7,\n",
       "       0, 5, 6, 6, 0, 2, 8, 4, 0, 1, 7, 7, 6, 2, 1, 6, 7, 3, 3, 3, 3, 4,\n",
       "       2, 4, 7, 7, 2, 8, 3, 6, 3, 5, 0, 3, 1, 1, 4, 2, 7, 6, 1, 2, 7, 6,\n",
       "       7, 7, 3, 7, 3, 2, 0, 3, 2, 3, 5, 0, 7, 1, 3, 2, 2, 3, 2, 1, 6, 4,\n",
       "       5, 2, 3, 7, 3, 7, 0, 5, 3, 2, 7, 0, 8, 6, 7, 3, 8, 1, 7, 3, 7, 6,\n",
       "       2, 4, 3, 8, 0, 3, 2, 5, 3, 5, 3, 0, 3, 2, 3, 7, 0, 2, 6, 7, 1, 3,\n",
       "       5, 6, 6, 3, 3, 0, 7, 4, 1, 1, 1, 3, 8, 8, 3, 5, 6, 6, 7, 1, 5, 6,\n",
       "       0, 2, 8, 6, 7, 8, 8, 4, 5, 2, 7, 3, 6, 7, 6, 3, 0, 3, 8, 8, 2, 1,\n",
       "       7, 5, 1, 7, 3, 5, 5, 5, 8, 1, 4, 0, 3, 2, 0, 1, 0, 7, 5, 3, 4, 7,\n",
       "       1, 2, 0, 3, 1, 2, 0, 7, 7, 1, 3, 1, 2, 7, 5, 7, 6, 7, 8, 6, 3, 2,\n",
       "       5, 6, 1, 4, 7, 7, 1, 4, 7, 2, 1, 4, 2, 2, 0, 6, 2, 4, 0, 5, 4, 1,\n",
       "       8, 7, 5, 2, 8, 3, 3, 4, 5, 8, 1, 3, 7, 3, 0, 4, 7, 4, 8, 3, 4, 5,\n",
       "       5, 4, 3, 8, 5, 6, 7, 5, 4, 0, 0, 6, 4, 2, 2, 6, 3, 4, 5, 1, 3, 2,\n",
       "       5, 7, 2, 6, 3, 8, 3, 0, 8, 2, 8, 7, 3, 0, 1, 3, 3, 0, 1, 0, 7, 4,\n",
       "       6, 1, 4, 8, 2, 3, 1, 2, 3, 3, 3, 1, 0, 2, 5, 3, 7, 8, 0, 6, 7, 1,\n",
       "       3, 1, 2, 0, 1, 4, 1, 2, 1, 2, 8, 6, 3, 3, 7, 6, 7, 5, 1, 3, 7, 7,\n",
       "       4, 8, 3, 7, 4, 8, 6, 0, 2, 1, 7, 8, 2, 4, 0, 3, 2, 7, 1, 2, 4, 6,\n",
       "       0, 2, 3, 6, 0, 0, 3, 5, 6, 8, 7, 7, 2, 3, 2, 0, 1, 5, 3, 2, 4, 0,\n",
       "       0, 2, 3, 3, 7, 5, 7, 2, 8, 1, 7, 4, 7, 8, 5, 1, 5, 6, 1, 2, 6, 3,\n",
       "       7, 7, 2, 4, 0, 3, 8, 7, 1, 1, 5, 1, 2, 5, 7, 7, 0, 5, 6, 3, 1, 5,\n",
       "       6, 3, 7, 2, 1, 2, 1, 6, 7, 2, 5, 7, 1, 5, 8, 4, 7, 3, 8, 1, 4, 3,\n",
       "       4, 1, 2, 6, 1, 6, 2, 0, 2, 2, 4, 2, 5, 4, 7, 7, 7, 7, 1, 4, 6, 4,\n",
       "       8, 1, 4, 2, 0, 5, 1, 1, 1, 6, 1, 7, 3, 1, 3, 5, 1, 4, 1, 4, 6, 8,\n",
       "       5, 7, 4, 0, 2, 0, 8, 4, 5, 8, 7, 2, 3, 8, 1, 7, 8, 4, 1, 3, 6, 3,\n",
       "       6, 7, 1, 2, 3, 3, 7, 8, 7, 6, 5, 7, 5, 2, 7, 2, 0, 5, 2, 8, 1, 2,\n",
       "       3, 8, 3, 2, 1, 3, 2, 6, 7, 3, 0, 3, 3, 0, 0, 4, 3, 2, 7, 6, 6, 8,\n",
       "       3, 3, 2, 5, 8, 5, 3, 7, 7, 1, 2, 0, 3, 0, 2, 0, 3, 5, 4, 5, 1, 2,\n",
       "       1, 6, 2, 4, 1, 2, 3, 1, 8, 7, 2, 8, 8, 5, 8, 2, 3, 4, 1, 1, 4, 6,\n",
       "       3, 4, 4, 3, 2, 7, 1, 4, 6, 1, 4, 0, 3, 4, 7, 2, 8, 7, 8, 7, 4, 1,\n",
       "       8, 0, 1, 1, 4, 6, 5, 4, 0, 8, 0, 7, 6, 4, 7, 5, 0, 2, 7, 4, 2, 3,\n",
       "       4, 1, 3, 3, 0, 4, 0, 1, 3, 1, 2, 0, 2, 1, 8, 2, 3, 8, 5, 7, 1, 8,\n",
       "       8, 5, 3, 4, 5, 4, 8, 0, 5, 4, 1, 8, 4, 7, 2, 8, 5, 4, 2, 2, 7, 7,\n",
       "       5, 4, 3, 4, 7, 7, 0, 3, 7, 7, 3, 7, 4, 3, 5, 5, 3, 4, 7, 1, 1, 7,\n",
       "       6, 4, 7, 3, 7, 0, 6, 3, 3, 8, 8, 0, 7, 7, 7, 8, 3, 7, 0, 0, 6, 5,\n",
       "       1, 0, 0, 3, 1, 0, 0, 4, 1, 3, 8, 4, 6, 0, 7, 6, 7, 1, 5, 3, 5, 8,\n",
       "       3, 5, 8, 6, 2, 1, 8, 2, 3, 8, 7, 3, 7, 2, 8, 8, 4, 6, 4, 7, 7, 8,\n",
       "       5, 8, 3, 7, 0, 8, 6, 1, 6, 1, 1, 3, 7, 1, 0, 7, 7, 7, 6, 3, 4, 2,\n",
       "       7, 7, 4, 5, 8, 7, 7, 1, 0, 3, 1, 2, 1, 2, 5, 8, 8, 0, 8, 0, 4, 1,\n",
       "       5, 8, 0, 3, 2, 7, 4, 6, 1, 4, 8, 2, 7, 5, 3, 2, 8, 3, 2, 1, 2, 4,\n",
       "       8, 7, 2, 0, 4, 7, 6, 1, 1, 8, 0, 2, 2, 3, 1, 7, 0, 4, 3, 6, 5, 2,\n",
       "       8, 3, 7, 7, 8, 6, 7, 3, 5, 2])"
      ]
     },
     "execution_count": 59,
     "metadata": {},
     "output_type": "execute_result"
    }
   ],
   "source": [
    "agg = AgglomerativeClustering(n_clusters=5, affinity='euclidean', linkage='ward')\n",
    "agg.fit(df_pca)\n",
    "agg_labels = model.labels_\n",
    "agg_labels"
   ]
  },
  {
   "cell_type": "code",
   "execution_count": 60,
   "metadata": {},
   "outputs": [
    {
     "data": {
      "text/plain": [
       "<matplotlib.collections.PathCollection at 0x180b1bcd490>"
      ]
     },
     "execution_count": 60,
     "metadata": {},
     "output_type": "execute_result"
    },
    {
     "data": {
      "image/png": "[encoded data removed]",
      "text/plain": [
       "<Figure size 432x288 with 1 Axes>"
      ]
     },
     "metadata": {
      "needs_background": "light"
     },
     "output_type": "display_data"
    }
   ],
   "source": [
    "plt.scatter(df_pca[agg_labels==0, 0], df_pca[agg_labels==0, 1], s=50, marker='o', color='red')\n",
    "plt.scatter(df_pca[agg_labels==1, 0], df_pca[agg_labels==1, 1], s=50, marker='o', color='blue')"
   ]
  },
  {
   "cell_type": "markdown",
   "metadata": {},
   "source": [
    "### Compare Model Performance"
   ]
  },
  {
   "cell_type": "code",
   "execution_count": 61,
   "metadata": {},
   "outputs": [
    {
     "data": {
      "text/html": [
       "<div>\n",
       "<style scoped>\n",
       "    .dataframe tbody tr th:only-of-type {\n",
       "        vertical-align: middle;\n",
       "    }\n",
       "\n",
       "    .dataframe tbody tr th {\n",
       "        vertical-align: top;\n",
       "    }\n",
       "\n",
       "    .dataframe thead th {\n",
       "        text-align: right;\n",
       "    }\n",
       "</style>\n",
       "<table border=\"1\" class=\"dataframe\">\n",
       "  <thead>\n",
       "    <tr style=\"text-align: right;\">\n",
       "      <th></th>\n",
       "      <th>Method</th>\n",
       "      <th>Silhouete Score</th>\n",
       "    </tr>\n",
       "  </thead>\n",
       "  <tbody>\n",
       "    <tr>\n",
       "      <th>0</th>\n",
       "      <td>K-Means</td>\n",
       "      <td>0.161526</td>\n",
       "    </tr>\n",
       "    <tr>\n",
       "      <th>1</th>\n",
       "      <td>Spectral</td>\n",
       "      <td>-0.113477</td>\n",
       "    </tr>\n",
       "    <tr>\n",
       "      <th>2</th>\n",
       "      <td>Gaussian Mixture</td>\n",
       "      <td>0.139687</td>\n",
       "    </tr>\n",
       "    <tr>\n",
       "      <th>3</th>\n",
       "      <td>Agglomerative</td>\n",
       "      <td>0.152649</td>\n",
       "    </tr>\n",
       "  </tbody>\n",
       "</table>\n",
       "</div>"
      ],
      "text/plain": [
       "             Method  Silhouete Score\n",
       "0           K-Means         0.161526\n",
       "1          Spectral        -0.113477\n",
       "2  Gaussian Mixture         0.139687\n",
       "3     Agglomerative         0.152649"
      ]
     },
     "execution_count": 61,
     "metadata": {},
     "output_type": "execute_result"
    }
   ],
   "source": [
    "compare = pd.DataFrame({'Method' : ['K-Means', 'Spectral', 'Gaussian Mixture', 'Agglomerative'],\n",
    "                  'Silhouete Score' : [silhouette_score(df_pca, kmeans_lloyd.labels_), silhouette_score(df_pca, SP.labels_), silhouette_score(df_pca, labels_gmm), silhouette_score(df_pca, agg_labels)]})\n",
    "compare"
   ]
  },
  {
   "cell_type": "markdown",
   "metadata": {},
   "source": [
    "Based on the comparative model performance, it can be seen that the worst performing model is Spectral Clustering, while the best performing model which has the biggest silhouette score is K-Means. Therefore, for the next exploratory data analysis, we are going to use the clustering that is done with the K-Means model."
   ]
  },
  {
   "cell_type": "markdown",
   "metadata": {},
   "source": [
    "### EDA"
   ]
  },
  {
   "cell_type": "code",
   "execution_count": 62,
   "metadata": {},
   "outputs": [
    {
     "data": {
      "text/html": [
       "<div>\n",
       "<style scoped>\n",
       "    .dataframe tbody tr th:only-of-type {\n",
       "        vertical-align: middle;\n",
       "    }\n",
       "\n",
       "    .dataframe tbody tr th {\n",
       "        vertical-align: top;\n",
       "    }\n",
       "\n",
       "    .dataframe thead th {\n",
       "        text-align: right;\n",
       "    }\n",
       "</style>\n",
       "<table border=\"1\" class=\"dataframe\">\n",
       "  <thead>\n",
       "    <tr style=\"text-align: right;\">\n",
       "      <th></th>\n",
       "      <th>Age</th>\n",
       "      <th>Sex</th>\n",
       "      <th>Job</th>\n",
       "      <th>Housing</th>\n",
       "      <th>Saving accounts</th>\n",
       "      <th>Checking account</th>\n",
       "      <th>Credit amount</th>\n",
       "      <th>Duration</th>\n",
       "      <th>Purpose</th>\n",
       "      <th>cluster</th>\n",
       "    </tr>\n",
       "  </thead>\n",
       "  <tbody>\n",
       "    <tr>\n",
       "      <th>0</th>\n",
       "      <td>67</td>\n",
       "      <td>male</td>\n",
       "      <td>2</td>\n",
       "      <td>own</td>\n",
       "      <td>none</td>\n",
       "      <td>little</td>\n",
       "      <td>14494431</td>\n",
       "      <td>6</td>\n",
       "      <td>radio/TV</td>\n",
       "      <td>0</td>\n",
       "    </tr>\n",
       "    <tr>\n",
       "      <th>1</th>\n",
       "      <td>22</td>\n",
       "      <td>female</td>\n",
       "      <td>2</td>\n",
       "      <td>own</td>\n",
       "      <td>little</td>\n",
       "      <td>moderate</td>\n",
       "      <td>73786449</td>\n",
       "      <td>48</td>\n",
       "      <td>radio/TV</td>\n",
       "      <td>3</td>\n",
       "    </tr>\n",
       "    <tr>\n",
       "      <th>2</th>\n",
       "      <td>49</td>\n",
       "      <td>male</td>\n",
       "      <td>1</td>\n",
       "      <td>own</td>\n",
       "      <td>little</td>\n",
       "      <td>none</td>\n",
       "      <td>25988304</td>\n",
       "      <td>12</td>\n",
       "      <td>education</td>\n",
       "      <td>4</td>\n",
       "    </tr>\n",
       "    <tr>\n",
       "      <th>3</th>\n",
       "      <td>45</td>\n",
       "      <td>male</td>\n",
       "      <td>2</td>\n",
       "      <td>free</td>\n",
       "      <td>little</td>\n",
       "      <td>little</td>\n",
       "      <td>97728918</td>\n",
       "      <td>42</td>\n",
       "      <td>furniture/equipment</td>\n",
       "      <td>0</td>\n",
       "    </tr>\n",
       "    <tr>\n",
       "      <th>4</th>\n",
       "      <td>53</td>\n",
       "      <td>male</td>\n",
       "      <td>2</td>\n",
       "      <td>free</td>\n",
       "      <td>little</td>\n",
       "      <td>little</td>\n",
       "      <td>60383130</td>\n",
       "      <td>24</td>\n",
       "      <td>car</td>\n",
       "      <td>0</td>\n",
       "    </tr>\n",
       "  </tbody>\n",
       "</table>\n",
       "</div>"
      ],
      "text/plain": [
       "   Age     Sex  Job Housing Saving accounts Checking account  Credit amount  \\\n",
       "0   67    male    2     own            none           little       14494431   \n",
       "1   22  female    2     own          little         moderate       73786449   \n",
       "2   49    male    1     own          little             none       25988304   \n",
       "3   45    male    2    free          little           little       97728918   \n",
       "4   53    male    2    free          little           little       60383130   \n",
       "\n",
       "   Duration              Purpose  cluster  \n",
       "0         6             radio/TV        0  \n",
       "1        48             radio/TV        3  \n",
       "2        12            education        4  \n",
       "3        42  furniture/equipment        0  \n",
       "4        24                  car        0  "
      ]
     },
     "execution_count": 62,
     "metadata": {},
     "output_type": "execute_result"
    }
   ],
   "source": [
    "#Creating new column for the clusters\n",
    "df2_cluster['cluster'] = kmeans_lloyd.labels_\n",
    "df2_cluster.head()"
   ]
  },
  {
   "cell_type": "code",
   "execution_count": 63,
   "metadata": {},
   "outputs": [
    {
     "data": {
      "text/plain": [
       "4    291\n",
       "0    215\n",
       "3    196\n",
       "2    183\n",
       "1    115\n",
       "Name: cluster, dtype: int64"
      ]
     },
     "execution_count": 63,
     "metadata": {},
     "output_type": "execute_result"
    }
   ],
   "source": [
    "#Checking how many data in each cluster\n",
    "df2_cluster['cluster'].value_counts()"
   ]
  },
  {
   "cell_type": "code",
   "execution_count": 64,
   "metadata": {},
   "outputs": [
    {
     "data": {
      "image/png": "[encoded data removed]",
      "text/plain": [
       "<Figure size 1296x360 with 3 Axes>"
      ]
     },
     "metadata": {
      "needs_background": "light"
     },
     "output_type": "display_data"
    }
   ],
   "source": [
    "#Visualizing clusters\n",
    "plt.figure(figsize=(18,5))\n",
    "plt.subplot(1,3,1)\n",
    "sns.barplot(x = 'cluster', y = 'Age', data=df2_cluster, palette=\"bright\")\n",
    "plt.title('Age')\n",
    "\n",
    "plt.subplot(1,3,2)\n",
    "sns.barplot(x = 'cluster', y = 'Credit amount', data=df2_cluster, palette=\"bright\")\n",
    "plt.title('Credit amount')\n",
    "\n",
    "plt.subplot(1,3,3)\n",
    "sns.barplot(x = 'cluster', y = 'Duration', data=df2_cluster, palette=\"bright\")\n",
    "plt.title('Duration')\n",
    "\n",
    "plt.tight_layout()\n",
    "\n",
    "plt.show()"
   ]
  },
  {
   "cell_type": "code",
   "execution_count": 65,
   "metadata": {},
   "outputs": [
    {
     "data": {
      "image/png": "[encoded data removed]",
      "text/plain": [
       "<Figure size 432x288 with 1 Axes>"
      ]
     },
     "metadata": {
      "needs_background": "light"
     },
     "output_type": "display_data"
    }
   ],
   "source": [
    "#Visualizing job per cluster\n",
    "sns.countplot(x='Job',data=df2_cluster, hue= 'cluster')\n",
    "plt.legend(bbox_to_anchor=(1.02, 1), loc='upper left', borderaxespad=0)\n",
    "plt.xticks(rotation=45)\n",
    "plt.show()"
   ]
  },
  {
   "cell_type": "code",
   "execution_count": 66,
   "metadata": {},
   "outputs": [
    {
     "data": {
      "image/png": "[encoded data removed]",
      "text/plain": [
       "<Figure size 432x288 with 1 Axes>"
      ]
     },
     "metadata": {
      "needs_background": "light"
     },
     "output_type": "display_data"
    }
   ],
   "source": [
    "#Visualizing housing per cluster\n",
    "sns.countplot(x='Housing',data=df2_cluster, hue= 'cluster')\n",
    "plt.legend(bbox_to_anchor=(1.02, 1), loc='upper left', borderaxespad=0)\n",
    "plt.xticks(rotation=45)\n",
    "plt.show()"
   ]
  },
  {
   "cell_type": "code",
   "execution_count": 67,
   "metadata": {},
   "outputs": [
    {
     "data": {
      "image/png": "[encoded data removed]",
      "text/plain": [
       "<Figure size 432x288 with 1 Axes>"
      ]
     },
     "metadata": {
      "needs_background": "light"
     },
     "output_type": "display_data"
    }
   ],
   "source": [
    "#Viisulalizing saving accounts per cluster\n",
    "sns.countplot(x='Saving accounts',data=df2_cluster, hue= 'cluster')\n",
    "plt.legend(bbox_to_anchor=(1.02, 1), loc='upper left', borderaxespad=0)\n",
    "plt.xticks(rotation=45)\n",
    "plt.show()"
   ]
  },
  {
   "cell_type": "code",
   "execution_count": 68,
   "metadata": {},
   "outputs": [
    {
     "data": {
      "image/png": "[encoded data removed]",
      "text/plain": [
       "<Figure size 432x288 with 1 Axes>"
      ]
     },
     "metadata": {
      "needs_background": "light"
     },
     "output_type": "display_data"
    }
   ],
   "source": [
    "#Visualizing checking account per cluster\n",
    "sns.countplot(x='Checking account',data=df2_cluster, hue= 'cluster')\n",
    "plt.legend(bbox_to_anchor=(1.02, 1), loc='upper left', borderaxespad=0)\n",
    "plt.xticks(rotation=45)\n",
    "plt.show()"
   ]
  },
  {
   "cell_type": "code",
   "execution_count": 69,
   "metadata": {},
   "outputs": [
    {
     "data": {
      "image/png": "[encoded data removed]",
      "text/plain": [
       "<Figure size 432x288 with 1 Axes>"
      ]
     },
     "metadata": {
      "needs_background": "light"
     },
     "output_type": "display_data"
    }
   ],
   "source": [
    "#Visualizing purpose per cluster\n",
    "sns.countplot(x='Purpose',data=df2_cluster, hue= 'cluster')\n",
    "plt.legend(bbox_to_anchor=(1.02, 1), loc='upper left', borderaxespad=0)\n",
    "plt.xticks(rotation=45)\n",
    "plt.show()"
   ]
  },
  {
   "cell_type": "markdown",
   "metadata": {},
   "source": [
    "**description**\n",
    "\n",
    "From the graphs above, I can conclude that there are some striking qualities that might categorize some of the clusters. \n",
    "\n",
    "0 – Mid Credit\t| Little Savings\t| Little Checking\n",
    "\n",
    "1 – Mid Credit\t| Mostly Rent Housing\n",
    "\n",
    "2 – High Credit\t| Moderate Checking\n",
    "\n",
    "3 – Low Credit\n",
    "\n",
    "4 – Mid Credit\t| No Checking\n",
    "\n",
    "We need a further analysis to draw a conclusion from the clusters."
   ]
  },
  {
   "cell_type": "markdown",
   "metadata": {},
   "source": [
    "**Cluster 0**"
   ]
  },
  {
   "cell_type": "code",
   "execution_count": 71,
   "metadata": {},
   "outputs": [
    {
     "data": {
      "text/plain": [
       "Age                    37.0\n",
       "Job                     2.0\n",
       "Credit amount    41607930.0\n",
       "Duration               22.0\n",
       "cluster                 0.0\n",
       "dtype: float64"
      ]
     },
     "execution_count": 71,
     "metadata": {},
     "output_type": "execute_result"
    }
   ],
   "source": [
    "cluster0 = df2_cluster[df2_cluster['cluster'] == 0]\n",
    "cluster0.mean().round()"
   ]
  },
  {
   "cell_type": "code",
   "execution_count": 72,
   "metadata": {},
   "outputs": [
    {
     "data": {
      "text/html": [
       "<div>\n",
       "<style scoped>\n",
       "    .dataframe tbody tr th:only-of-type {\n",
       "        vertical-align: middle;\n",
       "    }\n",
       "\n",
       "    .dataframe tbody tr th {\n",
       "        vertical-align: top;\n",
       "    }\n",
       "\n",
       "    .dataframe thead th {\n",
       "        text-align: right;\n",
       "    }\n",
       "</style>\n",
       "<table border=\"1\" class=\"dataframe\">\n",
       "  <thead>\n",
       "    <tr style=\"text-align: right;\">\n",
       "      <th></th>\n",
       "      <th>count</th>\n",
       "      <th>mean</th>\n",
       "      <th>std</th>\n",
       "      <th>min</th>\n",
       "      <th>25%</th>\n",
       "      <th>50%</th>\n",
       "      <th>75%</th>\n",
       "      <th>max</th>\n",
       "    </tr>\n",
       "  </thead>\n",
       "  <tbody>\n",
       "    <tr>\n",
       "      <th>Age</th>\n",
       "      <td>215.0</td>\n",
       "      <td>3.742791e+01</td>\n",
       "      <td>1.229783e+01</td>\n",
       "      <td>20.0</td>\n",
       "      <td>27.0</td>\n",
       "      <td>36.0</td>\n",
       "      <td>44.5</td>\n",
       "      <td>75.0</td>\n",
       "    </tr>\n",
       "    <tr>\n",
       "      <th>Job</th>\n",
       "      <td>215.0</td>\n",
       "      <td>1.897674e+00</td>\n",
       "      <td>6.688980e-01</td>\n",
       "      <td>0.0</td>\n",
       "      <td>2.0</td>\n",
       "      <td>2.0</td>\n",
       "      <td>2.0</td>\n",
       "      <td>3.0</td>\n",
       "    </tr>\n",
       "    <tr>\n",
       "      <th>Credit amount</th>\n",
       "      <td>215.0</td>\n",
       "      <td>4.160793e+07</td>\n",
       "      <td>3.330828e+07</td>\n",
       "      <td>4190862.0</td>\n",
       "      <td>17550784.5</td>\n",
       "      <td>31952223.0</td>\n",
       "      <td>51226468.5</td>\n",
       "      <td>196610943.0</td>\n",
       "    </tr>\n",
       "    <tr>\n",
       "      <th>Duration</th>\n",
       "      <td>215.0</td>\n",
       "      <td>2.184186e+01</td>\n",
       "      <td>1.212178e+01</td>\n",
       "      <td>6.0</td>\n",
       "      <td>12.0</td>\n",
       "      <td>20.0</td>\n",
       "      <td>30.0</td>\n",
       "      <td>60.0</td>\n",
       "    </tr>\n",
       "    <tr>\n",
       "      <th>cluster</th>\n",
       "      <td>215.0</td>\n",
       "      <td>0.000000e+00</td>\n",
       "      <td>0.000000e+00</td>\n",
       "      <td>0.0</td>\n",
       "      <td>0.0</td>\n",
       "      <td>0.0</td>\n",
       "      <td>0.0</td>\n",
       "      <td>0.0</td>\n",
       "    </tr>\n",
       "  </tbody>\n",
       "</table>\n",
       "</div>"
      ],
      "text/plain": [
       "               count          mean           std        min         25%  \\\n",
       "Age            215.0  3.742791e+01  1.229783e+01       20.0        27.0   \n",
       "Job            215.0  1.897674e+00  6.688980e-01        0.0         2.0   \n",
       "Credit amount  215.0  4.160793e+07  3.330828e+07  4190862.0  17550784.5   \n",
       "Duration       215.0  2.184186e+01  1.212178e+01        6.0        12.0   \n",
       "cluster        215.0  0.000000e+00  0.000000e+00        0.0         0.0   \n",
       "\n",
       "                      50%         75%          max  \n",
       "Age                  36.0        44.5         75.0  \n",
       "Job                   2.0         2.0          3.0  \n",
       "Credit amount  31952223.0  51226468.5  196610943.0  \n",
       "Duration             20.0        30.0         60.0  \n",
       "cluster               0.0         0.0          0.0  "
      ]
     },
     "execution_count": 72,
     "metadata": {},
     "output_type": "execute_result"
    }
   ],
   "source": [
    "cluster0.describe().T"
   ]
  },
  {
   "cell_type": "code",
   "execution_count": 96,
   "metadata": {},
   "outputs": [
    {
     "data": {
      "text/plain": [
       "own     145\n",
       "free     39\n",
       "rent     31\n",
       "Name: Housing, dtype: int64"
      ]
     },
     "execution_count": 96,
     "metadata": {},
     "output_type": "execute_result"
    }
   ],
   "source": [
    "cluster0['Housing'].value_counts()"
   ]
  },
  {
   "cell_type": "code",
   "execution_count": 73,
   "metadata": {},
   "outputs": [
    {
     "data": {
      "text/plain": [
       "little        178\n",
       "none           17\n",
       "moderate       10\n",
       "quite rich      7\n",
       "rich            3\n",
       "Name: Saving accounts, dtype: int64"
      ]
     },
     "execution_count": 73,
     "metadata": {},
     "output_type": "execute_result"
    }
   ],
   "source": [
    "cluster0['Saving accounts'].value_counts()"
   ]
  },
  {
   "cell_type": "code",
   "execution_count": 74,
   "metadata": {},
   "outputs": [
    {
     "data": {
      "text/plain": [
       "little    186\n",
       "rich       29\n",
       "Name: Checking account, dtype: int64"
      ]
     },
     "execution_count": 74,
     "metadata": {},
     "output_type": "execute_result"
    }
   ],
   "source": [
    "cluster0['Checking account'].value_counts()"
   ]
  },
  {
   "cell_type": "code",
   "execution_count": 75,
   "metadata": {},
   "outputs": [
    {
     "data": {
      "text/plain": [
       "car                    84\n",
       "furniture/equipment    52\n",
       "radio/TV               44\n",
       "business               15\n",
       "education              10\n",
       "repairs                 4\n",
       "domestic appliances     3\n",
       "vacation/others         3\n",
       "Name: Purpose, dtype: int64"
      ]
     },
     "execution_count": 75,
     "metadata": {},
     "output_type": "execute_result"
    }
   ],
   "source": [
    "cluster0['Purpose'].value_counts()"
   ]
  },
  {
   "cell_type": "markdown",
   "metadata": {},
   "source": [
    "**Cluster 1**"
   ]
  },
  {
   "cell_type": "code",
   "execution_count": 76,
   "metadata": {},
   "outputs": [
    {
     "data": {
      "text/plain": [
       "Age                    31.0\n",
       "Job                     2.0\n",
       "Credit amount    39865480.0\n",
       "Duration               20.0\n",
       "cluster                 1.0\n",
       "dtype: float64"
      ]
     },
     "execution_count": 76,
     "metadata": {},
     "output_type": "execute_result"
    }
   ],
   "source": [
    "cluster1 = df2_cluster[df2_cluster['cluster'] == 1]\n",
    "cluster1.mean().round()"
   ]
  },
  {
   "cell_type": "code",
   "execution_count": 77,
   "metadata": {},
   "outputs": [
    {
     "data": {
      "text/html": [
       "<div>\n",
       "<style scoped>\n",
       "    .dataframe tbody tr th:only-of-type {\n",
       "        vertical-align: middle;\n",
       "    }\n",
       "\n",
       "    .dataframe tbody tr th {\n",
       "        vertical-align: top;\n",
       "    }\n",
       "\n",
       "    .dataframe thead th {\n",
       "        text-align: right;\n",
       "    }\n",
       "</style>\n",
       "<table border=\"1\" class=\"dataframe\">\n",
       "  <thead>\n",
       "    <tr style=\"text-align: right;\">\n",
       "      <th></th>\n",
       "      <th>count</th>\n",
       "      <th>mean</th>\n",
       "      <th>std</th>\n",
       "      <th>min</th>\n",
       "      <th>25%</th>\n",
       "      <th>50%</th>\n",
       "      <th>75%</th>\n",
       "      <th>max</th>\n",
       "    </tr>\n",
       "  </thead>\n",
       "  <tbody>\n",
       "    <tr>\n",
       "      <th>Age</th>\n",
       "      <td>115.0</td>\n",
       "      <td>3.121739e+01</td>\n",
       "      <td>1.220856e+01</td>\n",
       "      <td>19.0</td>\n",
       "      <td>23.0</td>\n",
       "      <td>26.0</td>\n",
       "      <td>37.0</td>\n",
       "      <td>74.0</td>\n",
       "    </tr>\n",
       "    <tr>\n",
       "      <th>Job</th>\n",
       "      <td>115.0</td>\n",
       "      <td>1.843478e+00</td>\n",
       "      <td>7.205177e-01</td>\n",
       "      <td>0.0</td>\n",
       "      <td>2.0</td>\n",
       "      <td>2.0</td>\n",
       "      <td>2.0</td>\n",
       "      <td>3.0</td>\n",
       "    </tr>\n",
       "    <tr>\n",
       "      <th>Credit amount</th>\n",
       "      <td>115.0</td>\n",
       "      <td>3.986548e+07</td>\n",
       "      <td>3.445728e+07</td>\n",
       "      <td>4860408.0</td>\n",
       "      <td>16850241.0</td>\n",
       "      <td>27538179.0</td>\n",
       "      <td>47277387.0</td>\n",
       "      <td>183282018.0</td>\n",
       "    </tr>\n",
       "    <tr>\n",
       "      <th>Duration</th>\n",
       "      <td>115.0</td>\n",
       "      <td>1.987826e+01</td>\n",
       "      <td>1.011092e+01</td>\n",
       "      <td>4.0</td>\n",
       "      <td>12.0</td>\n",
       "      <td>18.0</td>\n",
       "      <td>24.0</td>\n",
       "      <td>60.0</td>\n",
       "    </tr>\n",
       "    <tr>\n",
       "      <th>cluster</th>\n",
       "      <td>115.0</td>\n",
       "      <td>1.000000e+00</td>\n",
       "      <td>0.000000e+00</td>\n",
       "      <td>1.0</td>\n",
       "      <td>1.0</td>\n",
       "      <td>1.0</td>\n",
       "      <td>1.0</td>\n",
       "      <td>1.0</td>\n",
       "    </tr>\n",
       "  </tbody>\n",
       "</table>\n",
       "</div>"
      ],
      "text/plain": [
       "               count          mean           std        min         25%  \\\n",
       "Age            115.0  3.121739e+01  1.220856e+01       19.0        23.0   \n",
       "Job            115.0  1.843478e+00  7.205177e-01        0.0         2.0   \n",
       "Credit amount  115.0  3.986548e+07  3.445728e+07  4860408.0  16850241.0   \n",
       "Duration       115.0  1.987826e+01  1.011092e+01        4.0        12.0   \n",
       "cluster        115.0  1.000000e+00  0.000000e+00        1.0         1.0   \n",
       "\n",
       "                      50%         75%          max  \n",
       "Age                  26.0        37.0         74.0  \n",
       "Job                   2.0         2.0          3.0  \n",
       "Credit amount  27538179.0  47277387.0  183282018.0  \n",
       "Duration             18.0        24.0         60.0  \n",
       "cluster               1.0         1.0          1.0  "
      ]
     },
     "execution_count": 77,
     "metadata": {},
     "output_type": "execute_result"
    }
   ],
   "source": [
    "cluster1.describe().T"
   ]
  },
  {
   "cell_type": "code",
   "execution_count": 78,
   "metadata": {},
   "outputs": [
    {
     "data": {
      "text/plain": [
       "little        67\n",
       "none          20\n",
       "moderate      13\n",
       "rich           8\n",
       "quite rich     7\n",
       "Name: Saving accounts, dtype: int64"
      ]
     },
     "execution_count": 78,
     "metadata": {},
     "output_type": "execute_result"
    }
   ],
   "source": [
    "cluster1['Saving accounts'].value_counts()"
   ]
  },
  {
   "cell_type": "code",
   "execution_count": 79,
   "metadata": {},
   "outputs": [
    {
     "data": {
      "text/plain": [
       "little      43\n",
       "none        34\n",
       "moderate    32\n",
       "rich         6\n",
       "Name: Checking account, dtype: int64"
      ]
     },
     "execution_count": 79,
     "metadata": {},
     "output_type": "execute_result"
    }
   ],
   "source": [
    "cluster1['Checking account'].value_counts()"
   ]
  },
  {
   "cell_type": "code",
   "execution_count": 80,
   "metadata": {},
   "outputs": [
    {
     "data": {
      "text/plain": [
       "car                    41\n",
       "furniture/equipment    37\n",
       "radio/TV               17\n",
       "education               9\n",
       "business                7\n",
       "domestic appliances     2\n",
       "vacation/others         1\n",
       "repairs                 1\n",
       "Name: Purpose, dtype: int64"
      ]
     },
     "execution_count": 80,
     "metadata": {},
     "output_type": "execute_result"
    }
   ],
   "source": [
    "cluster1['Purpose'].value_counts()"
   ]
  },
  {
   "cell_type": "markdown",
   "metadata": {},
   "source": [
    "**Cluster 2**"
   ]
  },
  {
   "cell_type": "code",
   "execution_count": 81,
   "metadata": {},
   "outputs": [
    {
     "data": {
      "text/plain": [
       "Age                    34.0\n",
       "Job                     2.0\n",
       "Credit amount    48084474.0\n",
       "Duration               23.0\n",
       "cluster                 2.0\n",
       "dtype: float64"
      ]
     },
     "execution_count": 81,
     "metadata": {},
     "output_type": "execute_result"
    }
   ],
   "source": [
    "cluster2 = df2_cluster[df2_cluster['cluster'] == 2]\n",
    "cluster2.mean().round()"
   ]
  },
  {
   "cell_type": "code",
   "execution_count": 82,
   "metadata": {},
   "outputs": [
    {
     "data": {
      "text/html": [
       "<div>\n",
       "<style scoped>\n",
       "    .dataframe tbody tr th:only-of-type {\n",
       "        vertical-align: middle;\n",
       "    }\n",
       "\n",
       "    .dataframe tbody tr th {\n",
       "        vertical-align: top;\n",
       "    }\n",
       "\n",
       "    .dataframe thead th {\n",
       "        text-align: right;\n",
       "    }\n",
       "</style>\n",
       "<table border=\"1\" class=\"dataframe\">\n",
       "  <thead>\n",
       "    <tr style=\"text-align: right;\">\n",
       "      <th></th>\n",
       "      <th>count</th>\n",
       "      <th>mean</th>\n",
       "      <th>std</th>\n",
       "      <th>min</th>\n",
       "      <th>25%</th>\n",
       "      <th>50%</th>\n",
       "      <th>75%</th>\n",
       "      <th>max</th>\n",
       "    </tr>\n",
       "  </thead>\n",
       "  <tbody>\n",
       "    <tr>\n",
       "      <th>Age</th>\n",
       "      <td>183.0</td>\n",
       "      <td>3.444809e+01</td>\n",
       "      <td>1.023548e+01</td>\n",
       "      <td>20.0</td>\n",
       "      <td>27.0</td>\n",
       "      <td>32.0</td>\n",
       "      <td>38.0</td>\n",
       "      <td>70.0</td>\n",
       "    </tr>\n",
       "    <tr>\n",
       "      <th>Job</th>\n",
       "      <td>183.0</td>\n",
       "      <td>1.928962e+00</td>\n",
       "      <td>7.035097e-01</td>\n",
       "      <td>0.0</td>\n",
       "      <td>2.0</td>\n",
       "      <td>2.0</td>\n",
       "      <td>2.0</td>\n",
       "      <td>3.0</td>\n",
       "    </tr>\n",
       "    <tr>\n",
       "      <th>Credit amount</th>\n",
       "      <td>183.0</td>\n",
       "      <td>4.808447e+07</td>\n",
       "      <td>4.331745e+07</td>\n",
       "      <td>3422124.0</td>\n",
       "      <td>17482590.0</td>\n",
       "      <td>31245480.0</td>\n",
       "      <td>68045712.0</td>\n",
       "      <td>197702055.0</td>\n",
       "    </tr>\n",
       "    <tr>\n",
       "      <th>Duration</th>\n",
       "      <td>183.0</td>\n",
       "      <td>2.307104e+01</td>\n",
       "      <td>1.396701e+01</td>\n",
       "      <td>6.0</td>\n",
       "      <td>12.0</td>\n",
       "      <td>18.0</td>\n",
       "      <td>30.0</td>\n",
       "      <td>72.0</td>\n",
       "    </tr>\n",
       "    <tr>\n",
       "      <th>cluster</th>\n",
       "      <td>183.0</td>\n",
       "      <td>2.000000e+00</td>\n",
       "      <td>0.000000e+00</td>\n",
       "      <td>2.0</td>\n",
       "      <td>2.0</td>\n",
       "      <td>2.0</td>\n",
       "      <td>2.0</td>\n",
       "      <td>2.0</td>\n",
       "    </tr>\n",
       "  </tbody>\n",
       "</table>\n",
       "</div>"
      ],
      "text/plain": [
       "               count          mean           std        min         25%  \\\n",
       "Age            183.0  3.444809e+01  1.023548e+01       20.0        27.0   \n",
       "Job            183.0  1.928962e+00  7.035097e-01        0.0         2.0   \n",
       "Credit amount  183.0  4.808447e+07  4.331745e+07  3422124.0  17482590.0   \n",
       "Duration       183.0  2.307104e+01  1.396701e+01        6.0        12.0   \n",
       "cluster        183.0  2.000000e+00  0.000000e+00        2.0         2.0   \n",
       "\n",
       "                      50%         75%          max  \n",
       "Age                  32.0        38.0         70.0  \n",
       "Job                   2.0         2.0          3.0  \n",
       "Credit amount  31245480.0  68045712.0  197702055.0  \n",
       "Duration             18.0        30.0         72.0  \n",
       "cluster               2.0         2.0          2.0  "
      ]
     },
     "execution_count": 82,
     "metadata": {},
     "output_type": "execute_result"
    }
   ],
   "source": [
    "cluster2.describe().T"
   ]
  },
  {
   "cell_type": "code",
   "execution_count": 83,
   "metadata": {},
   "outputs": [
    {
     "data": {
      "text/plain": [
       "little        101\n",
       "moderate       34\n",
       "none           32\n",
       "rich            9\n",
       "quite rich      7\n",
       "Name: Saving accounts, dtype: int64"
      ]
     },
     "execution_count": 83,
     "metadata": {},
     "output_type": "execute_result"
    }
   ],
   "source": [
    "cluster2['Saving accounts'].value_counts()"
   ]
  },
  {
   "cell_type": "code",
   "execution_count": 84,
   "metadata": {},
   "outputs": [
    {
     "data": {
      "text/plain": [
       "moderate    183\n",
       "Name: Checking account, dtype: int64"
      ]
     },
     "execution_count": 84,
     "metadata": {},
     "output_type": "execute_result"
    }
   ],
   "source": [
    "cluster2['Checking account'].value_counts()"
   ]
  },
  {
   "cell_type": "code",
   "execution_count": 85,
   "metadata": {},
   "outputs": [
    {
     "data": {
      "text/plain": [
       "car                    57\n",
       "radio/TV               52\n",
       "business               32\n",
       "furniture/equipment    19\n",
       "education              10\n",
       "repairs                 7\n",
       "vacation/others         5\n",
       "domestic appliances     1\n",
       "Name: Purpose, dtype: int64"
      ]
     },
     "execution_count": 85,
     "metadata": {},
     "output_type": "execute_result"
    }
   ],
   "source": [
    "cluster2['Purpose'].value_counts()"
   ]
  },
  {
   "cell_type": "markdown",
   "metadata": {},
   "source": [
    "**Cluster 3**"
   ]
  },
  {
   "cell_type": "code",
   "execution_count": 86,
   "metadata": {},
   "outputs": [
    {
     "data": {
      "text/plain": [
       "Age                    34.0\n",
       "Job                     2.0\n",
       "Credit amount    33273412.0\n",
       "Duration               19.0\n",
       "cluster                 3.0\n",
       "dtype: float64"
      ]
     },
     "execution_count": 86,
     "metadata": {},
     "output_type": "execute_result"
    }
   ],
   "source": [
    "cluster3 = df2_cluster[df2_cluster['cluster'] == 3]\n",
    "cluster3.mean().round()"
   ]
  },
  {
   "cell_type": "code",
   "execution_count": 87,
   "metadata": {},
   "outputs": [
    {
     "data": {
      "text/plain": [
       "little        127\n",
       "none           30\n",
       "moderate       19\n",
       "rich           11\n",
       "quite rich      9\n",
       "Name: Saving accounts, dtype: int64"
      ]
     },
     "execution_count": 87,
     "metadata": {},
     "output_type": "execute_result"
    }
   ],
   "source": [
    "cluster3['Saving accounts'].value_counts()"
   ]
  },
  {
   "cell_type": "code",
   "execution_count": 88,
   "metadata": {},
   "outputs": [
    {
     "data": {
      "text/plain": [
       "none        82\n",
       "moderate    54\n",
       "little      45\n",
       "rich        15\n",
       "Name: Checking account, dtype: int64"
      ]
     },
     "execution_count": 88,
     "metadata": {},
     "output_type": "execute_result"
    }
   ],
   "source": [
    "cluster3['Checking account'].value_counts()"
   ]
  },
  {
   "cell_type": "code",
   "execution_count": 89,
   "metadata": {},
   "outputs": [
    {
     "data": {
      "text/plain": [
       "radio/TV               68\n",
       "car                    53\n",
       "furniture/equipment    38\n",
       "education              15\n",
       "business               12\n",
       "domestic appliances     4\n",
       "repairs                 4\n",
       "vacation/others         2\n",
       "Name: Purpose, dtype: int64"
      ]
     },
     "execution_count": 89,
     "metadata": {},
     "output_type": "execute_result"
    }
   ],
   "source": [
    "cluster3['Purpose'].value_counts()"
   ]
  },
  {
   "cell_type": "markdown",
   "metadata": {},
   "source": [
    "**Cluster 4**"
   ]
  },
  {
   "cell_type": "code",
   "execution_count": 90,
   "metadata": {},
   "outputs": [
    {
     "data": {
      "text/plain": [
       "Age                    38.0\n",
       "Job                     2.0\n",
       "Credit amount    40237269.0\n",
       "Duration               20.0\n",
       "cluster                 4.0\n",
       "dtype: float64"
      ]
     },
     "execution_count": 90,
     "metadata": {},
     "output_type": "execute_result"
    }
   ],
   "source": [
    "cluster4 = df2_cluster[df2_cluster['cluster'] == 4]\n",
    "cluster4.mean().round()"
   ]
  },
  {
   "cell_type": "code",
   "execution_count": 91,
   "metadata": {},
   "outputs": [
    {
     "data": {
      "text/html": [
       "<div>\n",
       "<style scoped>\n",
       "    .dataframe tbody tr th:only-of-type {\n",
       "        vertical-align: middle;\n",
       "    }\n",
       "\n",
       "    .dataframe tbody tr th {\n",
       "        vertical-align: top;\n",
       "    }\n",
       "\n",
       "    .dataframe thead th {\n",
       "        text-align: right;\n",
       "    }\n",
       "</style>\n",
       "<table border=\"1\" class=\"dataframe\">\n",
       "  <thead>\n",
       "    <tr style=\"text-align: right;\">\n",
       "      <th></th>\n",
       "      <th>count</th>\n",
       "      <th>mean</th>\n",
       "      <th>std</th>\n",
       "      <th>min</th>\n",
       "      <th>25%</th>\n",
       "      <th>50%</th>\n",
       "      <th>75%</th>\n",
       "      <th>max</th>\n",
       "    </tr>\n",
       "  </thead>\n",
       "  <tbody>\n",
       "    <tr>\n",
       "      <th>Age</th>\n",
       "      <td>291.0</td>\n",
       "      <td>3.782131e+01</td>\n",
       "      <td>1.018530e+01</td>\n",
       "      <td>20.0</td>\n",
       "      <td>30.5</td>\n",
       "      <td>36.0</td>\n",
       "      <td>44.0</td>\n",
       "      <td>74.0</td>\n",
       "    </tr>\n",
       "    <tr>\n",
       "      <th>Job</th>\n",
       "      <td>291.0</td>\n",
       "      <td>1.965636e+00</td>\n",
       "      <td>5.802983e-01</td>\n",
       "      <td>1.0</td>\n",
       "      <td>2.0</td>\n",
       "      <td>2.0</td>\n",
       "      <td>2.0</td>\n",
       "      <td>3.0</td>\n",
       "    </tr>\n",
       "    <tr>\n",
       "      <th>Credit amount</th>\n",
       "      <td>291.0</td>\n",
       "      <td>4.023727e+07</td>\n",
       "      <td>3.242280e+07</td>\n",
       "      <td>5281974.0</td>\n",
       "      <td>18300924.0</td>\n",
       "      <td>29088054.0</td>\n",
       "      <td>47816743.5</td>\n",
       "      <td>194081547.0</td>\n",
       "    </tr>\n",
       "    <tr>\n",
       "      <th>Duration</th>\n",
       "      <td>291.0</td>\n",
       "      <td>2.039519e+01</td>\n",
       "      <td>1.156772e+01</td>\n",
       "      <td>4.0</td>\n",
       "      <td>12.0</td>\n",
       "      <td>18.0</td>\n",
       "      <td>24.0</td>\n",
       "      <td>60.0</td>\n",
       "    </tr>\n",
       "    <tr>\n",
       "      <th>cluster</th>\n",
       "      <td>291.0</td>\n",
       "      <td>4.000000e+00</td>\n",
       "      <td>0.000000e+00</td>\n",
       "      <td>4.0</td>\n",
       "      <td>4.0</td>\n",
       "      <td>4.0</td>\n",
       "      <td>4.0</td>\n",
       "      <td>4.0</td>\n",
       "    </tr>\n",
       "  </tbody>\n",
       "</table>\n",
       "</div>"
      ],
      "text/plain": [
       "               count          mean           std        min         25%  \\\n",
       "Age            291.0  3.782131e+01  1.018530e+01       20.0        30.5   \n",
       "Job            291.0  1.965636e+00  5.802983e-01        1.0         2.0   \n",
       "Credit amount  291.0  4.023727e+07  3.242280e+07  5281974.0  18300924.0   \n",
       "Duration       291.0  2.039519e+01  1.156772e+01        4.0        12.0   \n",
       "cluster        291.0  4.000000e+00  0.000000e+00        4.0         4.0   \n",
       "\n",
       "                      50%         75%          max  \n",
       "Age                  36.0        44.0         74.0  \n",
       "Job                   2.0         2.0          3.0  \n",
       "Credit amount  29088054.0  47816743.5  194081547.0  \n",
       "Duration             18.0        24.0         60.0  \n",
       "cluster               4.0         4.0          4.0  "
      ]
     },
     "execution_count": 91,
     "metadata": {},
     "output_type": "execute_result"
    }
   ],
   "source": [
    "cluster4.describe().T"
   ]
  },
  {
   "cell_type": "code",
   "execution_count": 97,
   "metadata": {},
   "outputs": [
    {
     "data": {
      "text/plain": [
       "2    193\n",
       "1     54\n",
       "3     44\n",
       "Name: Job, dtype: int64"
      ]
     },
     "execution_count": 97,
     "metadata": {},
     "output_type": "execute_result"
    }
   ],
   "source": [
    "cluster4['Job'].value_counts()"
   ]
  },
  {
   "cell_type": "code",
   "execution_count": 98,
   "metadata": {},
   "outputs": [
    {
     "data": {
      "text/plain": [
       "own     234\n",
       "free     29\n",
       "rent     28\n",
       "Name: Housing, dtype: int64"
      ]
     },
     "execution_count": 98,
     "metadata": {},
     "output_type": "execute_result"
    }
   ],
   "source": [
    "cluster4['Housing'].value_counts()"
   ]
  },
  {
   "cell_type": "code",
   "execution_count": 92,
   "metadata": {},
   "outputs": [
    {
     "data": {
      "text/plain": [
       "little        130\n",
       "none           84\n",
       "quite rich     33\n",
       "moderate       27\n",
       "rich           17\n",
       "Name: Saving accounts, dtype: int64"
      ]
     },
     "execution_count": 92,
     "metadata": {},
     "output_type": "execute_result"
    }
   ],
   "source": [
    "cluster4['Saving accounts'].value_counts()"
   ]
  },
  {
   "cell_type": "code",
   "execution_count": 93,
   "metadata": {},
   "outputs": [
    {
     "data": {
      "text/plain": [
       "none    278\n",
       "rich     13\n",
       "Name: Checking account, dtype: int64"
      ]
     },
     "execution_count": 93,
     "metadata": {},
     "output_type": "execute_result"
    }
   ],
   "source": [
    "cluster4['Checking account'].value_counts()"
   ]
  },
  {
   "cell_type": "code",
   "execution_count": 94,
   "metadata": {},
   "outputs": [
    {
     "data": {
      "text/plain": [
       "car                    102\n",
       "radio/TV                99\n",
       "furniture/equipment     35\n",
       "business                31\n",
       "education               15\n",
       "repairs                  6\n",
       "domestic appliances      2\n",
       "vacation/others          1\n",
       "Name: Purpose, dtype: int64"
      ]
     },
     "execution_count": 94,
     "metadata": {},
     "output_type": "execute_result"
    }
   ],
   "source": [
    "cluster4['Purpose'].value_counts()"
   ]
  },
  {
   "cell_type": "markdown",
   "metadata": {},
   "source": [
    "From further inspection, we are focusing on the characteristics that might separate one group from the other, and it is known from each group that:\n",
    "\n",
    "0 – Mid Credit\t| Little to no savings\t| Little to rich Checking\t| Purpose for car, furniture/equipment, and radio/TV\n",
    "\n",
    "1 – Mid Credit\t| Little to no savings\t| Little to no Checking\t| Purpose for car\t| Mostly rent housing\n",
    "\n",
    "2 – High Credit\t| Little to moderate savings\t| Moderate Checking\t| Purpose for car and radio/TV\n",
    "\n",
    "3 – Low Credit\t| Little to no savings\t| No to moderate Checking\t| Purpopse for radio/TV and car\n",
    "\n",
    "4 – Mid Credit\t| Little to no savings\t| No Checking\t| Purpopse for car\n",
    "\n",
    "\n",
    "### Conclusion\n",
    "\n",
    "1. People in cluster 0 could be considered as low risk though the bank should check further towards the exact amounts that is going to be lended and the amount of financial capability that the prospect debitor has.\n",
    "\n",
    "2. People in cluster 1 is considered as a high risk prospect debitor due to the mid credit amount that they have, and yet they have little to no amount both in their saving and checking account. Added on top of that, they are mostly still renting and borrowing money for a car.\n",
    "\n",
    "3. People in cluster 2 could be considered as low risk since although they have high credit amount, they have little to moderate savings and moderate checking amount, and the purpose is for radio/TV or a car. Though it has to be inspected further how much the radio or car might cost.\n",
    "\n",
    "4. People in cluster 3 is deemed low risk since they have low credit though they have little to no savings. Their Checking account is either none or moderate, and the purpose is either for radio/TV and car.\n",
    "\n",
    "5. People in cluster 4 could be considered as high risk since they have mid credit, and yet they have little to no savings, no checking account, and the purpose is for car.\n",
    "\n",
    "6. Several variables are not distinctive enough to differentiate one cluster from the other in this case and might better represent the user characteristic as a whole such as the Job category and purpose as most of the users are skilled at their job and most of the people are taking loans for a car. Only in this case the purpose helps us decide which one is low risk and which one is high risk.\n",
    "\n",
    "7. Two of the variables that could help explain the data better doesn't contain enough information despite the explanation in the sheets, those variables are credit amount and duration. In the description, credit amount is only explained to be in IDR and doesn't explain whether it's the current amount that the user owes to the bank and is trying to pay off or is it the amount that the user wants to borrow. Whereas duration is only explained to be in months, but we don't know whether that is the duration in which the user is going to pay off the loan, or whether it's the duration of how long the user has been a user to the bank. If the data to this were to be provided, it might help separate between groups.\n",
    "\n",
    "**Limitations**\n",
    "\n",
    "Due to the limited time, there isn't much exploration that can be done towards the data. However, further improvement is possible by applying different preprocessing methods, changing the number of clusters, or perhaps even changing the whole method in finding which users has high risk."
   ]
  },
  {
   "cell_type": "code",
   "execution_count": 100,
   "metadata": {},
   "outputs": [],
   "source": [
    "#Assigning each cluster to their final group\n",
    "Risk=[]\n",
    "\n",
    "\n",
    "for c in range(len(df2_cluster)):\n",
    "  if df2_cluster['cluster'][c] in [0,2,3]:\n",
    "    group = 'Low'\n",
    "  else:\n",
    "    group = 'High'\n",
    "  Risk.append(group)"
   ]
  },
  {
   "cell_type": "code",
   "execution_count": 102,
   "metadata": {},
   "outputs": [
    {
     "data": {
      "text/html": [
       "<div>\n",
       "<style scoped>\n",
       "    .dataframe tbody tr th:only-of-type {\n",
       "        vertical-align: middle;\n",
       "    }\n",
       "\n",
       "    .dataframe tbody tr th {\n",
       "        vertical-align: top;\n",
       "    }\n",
       "\n",
       "    .dataframe thead th {\n",
       "        text-align: right;\n",
       "    }\n",
       "</style>\n",
       "<table border=\"1\" class=\"dataframe\">\n",
       "  <thead>\n",
       "    <tr style=\"text-align: right;\">\n",
       "      <th></th>\n",
       "      <th>Age</th>\n",
       "      <th>Sex</th>\n",
       "      <th>Job</th>\n",
       "      <th>Housing</th>\n",
       "      <th>Saving accounts</th>\n",
       "      <th>Checking account</th>\n",
       "      <th>Credit amount</th>\n",
       "      <th>Duration</th>\n",
       "      <th>Purpose</th>\n",
       "      <th>Risk</th>\n",
       "    </tr>\n",
       "  </thead>\n",
       "  <tbody>\n",
       "    <tr>\n",
       "      <th>0</th>\n",
       "      <td>67</td>\n",
       "      <td>male</td>\n",
       "      <td>2</td>\n",
       "      <td>own</td>\n",
       "      <td>none</td>\n",
       "      <td>little</td>\n",
       "      <td>14494431</td>\n",
       "      <td>6</td>\n",
       "      <td>radio/TV</td>\n",
       "      <td>Low</td>\n",
       "    </tr>\n",
       "    <tr>\n",
       "      <th>1</th>\n",
       "      <td>22</td>\n",
       "      <td>female</td>\n",
       "      <td>2</td>\n",
       "      <td>own</td>\n",
       "      <td>little</td>\n",
       "      <td>moderate</td>\n",
       "      <td>73786449</td>\n",
       "      <td>48</td>\n",
       "      <td>radio/TV</td>\n",
       "      <td>Low</td>\n",
       "    </tr>\n",
       "    <tr>\n",
       "      <th>2</th>\n",
       "      <td>49</td>\n",
       "      <td>male</td>\n",
       "      <td>1</td>\n",
       "      <td>own</td>\n",
       "      <td>little</td>\n",
       "      <td>none</td>\n",
       "      <td>25988304</td>\n",
       "      <td>12</td>\n",
       "      <td>education</td>\n",
       "      <td>High</td>\n",
       "    </tr>\n",
       "    <tr>\n",
       "      <th>3</th>\n",
       "      <td>45</td>\n",
       "      <td>male</td>\n",
       "      <td>2</td>\n",
       "      <td>free</td>\n",
       "      <td>little</td>\n",
       "      <td>little</td>\n",
       "      <td>97728918</td>\n",
       "      <td>42</td>\n",
       "      <td>furniture/equipment</td>\n",
       "      <td>Low</td>\n",
       "    </tr>\n",
       "    <tr>\n",
       "      <th>4</th>\n",
       "      <td>53</td>\n",
       "      <td>male</td>\n",
       "      <td>2</td>\n",
       "      <td>free</td>\n",
       "      <td>little</td>\n",
       "      <td>little</td>\n",
       "      <td>60383130</td>\n",
       "      <td>24</td>\n",
       "      <td>car</td>\n",
       "      <td>Low</td>\n",
       "    </tr>\n",
       "  </tbody>\n",
       "</table>\n",
       "</div>"
      ],
      "text/plain": [
       "   Age     Sex  Job Housing Saving accounts Checking account  Credit amount  \\\n",
       "0   67    male    2     own            none           little       14494431   \n",
       "1   22  female    2     own          little         moderate       73786449   \n",
       "2   49    male    1     own          little             none       25988304   \n",
       "3   45    male    2    free          little           little       97728918   \n",
       "4   53    male    2    free          little           little       60383130   \n",
       "\n",
       "   Duration              Purpose  Risk  \n",
       "0         6             radio/TV   Low  \n",
       "1        48             radio/TV   Low  \n",
       "2        12            education  High  \n",
       "3        42  furniture/equipment   Low  \n",
       "4        24                  car   Low  "
      ]
     },
     "execution_count": 102,
     "metadata": {},
     "output_type": "execute_result"
    }
   ],
   "source": [
    "df2_cluster['Risk'] = Risk\n",
    "df2_cluster.drop(['cluster'], axis=1, inplace=True)\n",
    "df2_cluster.head()"
   ]
  },
  {
   "cell_type": "code",
   "execution_count": 103,
   "metadata": {},
   "outputs": [],
   "source": [
    "df2_cluster.to_excel('df2_final.xlsx')"
   ]
  },
  {
   "cell_type": "code",
   "execution_count": null,
   "metadata": {},
   "outputs": [],
   "source": []
  }
 ],
 "metadata": {
  "kernelspec": {
   "display_name": "Python 3.9.12 ('base')",
   "language": "python",
   "name": "python3"
  },
  "language_info": {
   "codemirror_mode": {
    "name": "ipython",
    "version": 3
   },
   "file_extension": ".py",
   "mimetype": "text/x-python",
   "name": "python",
   "nbconvert_exporter": "python",
   "pygments_lexer": "ipython3",
   "version": "3.9.12"
  },
  "orig_nbformat": 4,
  "vscode": {
   "interpreter": {
    "hash": "2b4d7b9a044dfafd283ac5e998378fc233f274b1ac169120ad58a77e18bcfdd3"
   }
  }
 },
 "nbformat": 4,
 "nbformat_minor": 2
}
